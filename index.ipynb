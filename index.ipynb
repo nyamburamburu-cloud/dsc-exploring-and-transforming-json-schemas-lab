{
 "cells": [
  {
   "cell_type": "markdown",
   "metadata": {},
   "source": [
    "# Exploring and Transforming JSON Schemas - Lab"
   ]
  },
  {
   "cell_type": "markdown",
   "metadata": {},
   "source": [
    "# Introduction\n",
    "\n",
    "In this lab, you'll practice exploring a JSON file whose structure and schema is unknown to you. We will provide you with limited information, and you will explore the dataset to answer the specified question."
   ]
  },
  {
   "cell_type": "markdown",
   "metadata": {},
   "source": [
    "## Objectives\n",
    "\n",
    "You will be able to:\n",
    "\n",
    "* Use the `json` module to load and parse JSON documents\n",
    "* Explore and extract data using unknown JSON schemas\n",
    "* Convert JSON to a pandas dataframe"
   ]
  },
  {
   "cell_type": "markdown",
   "metadata": {},
   "source": [
    "## Your Task: Create a Bar Graph of the Top 10 States with the Highest Asthma Rates for Adults Age 18+\n",
    "\n",
    "The information you need to create this graph is located in `disease_data.json`. It contains both data and metadata.\n",
    "\n",
    "You are given the following codebook/data dictionary:\n",
    "\n",
    "* The actual data values are associated with the key `'DataValue'`\n",
    "* The state names are associated with the key `'LocationDesc'`\n",
    "* To filter to the appropriate records, make sure:\n",
    "  * The `'Question'` is `'Current asthma prevalence among adults aged >= 18 years'`\n",
    "  * The `'StratificationCategoryID1'` is `'OVERALL'`\n",
    "  * The `'DataValueTypeID'` is `'CRDPREV'`\n",
    "  * The `'LocationDesc'` is not `'United States'`\n",
    "  \n",
    "The provided JSON file contains both data and metadata, and you will need to parse the metadata in order to understand the meanings of the values in the data.\n",
    "\n",
    "No further information about the structure of this file is provided."
   ]
  },
  {
   "cell_type": "markdown",
   "metadata": {},
   "source": [
    "## Load the JSON File\n",
    "\n",
    "Load the data from the file `disease_data.json` into a variable `data`."
   ]
  },
  {
   "cell_type": "code",
   "execution_count": 1,
   "metadata": {},
   "outputs": [],
   "source": [
    "# Your code here \n",
    "import json\n",
    "with open('disease_data.json') as f:\n",
    "    data = json.load(f)"
   ]
  },
  {
   "cell_type": "markdown",
   "metadata": {},
   "source": [
    "## Explore the Overall Structure\n",
    "\n",
    "What is the overall data type of `data`?"
   ]
  },
  {
   "cell_type": "code",
   "execution_count": 2,
   "metadata": {},
   "outputs": [
    {
     "name": "stdout",
     "output_type": "stream",
     "text": [
      "The overall data type of data is: <class 'dict'>\n"
     ]
    }
   ],
   "source": [
    "# Your code here\n",
    "# Check the overall data type of data\n",
    "data_type = type(data)\n",
    "print(\"The overall data type of data is:\", data_type)"
   ]
  },
  {
   "cell_type": "markdown",
   "metadata": {},
   "source": [
    "What are the keys?"
   ]
  },
  {
   "cell_type": "code",
   "execution_count": 3,
   "metadata": {},
   "outputs": [
    {
     "data": {
      "text/plain": [
       "dict_keys(['meta', 'data'])"
      ]
     },
     "execution_count": 3,
     "metadata": {},
     "output_type": "execute_result"
    }
   ],
   "source": [
    "# Your code here\n",
    "keys = data.keys()\n",
    "keys"
   ]
  },
  {
   "cell_type": "markdown",
   "metadata": {},
   "source": [
    "What are the data types associates with those keys?"
   ]
  },
  {
   "cell_type": "code",
   "execution_count": 5,
   "metadata": {},
   "outputs": [
    {
     "name": "stdout",
     "output_type": "stream",
     "text": [
      "Data types associated with the keys:\n",
      "meta: <class 'dict'>\n",
      "data: <class 'list'>\n"
     ]
    }
   ],
   "source": [
    "# Your code here (data)\n",
    "data_types = {key: type(data[key]) for key in keys}\n",
    "print(\"Data types associated with the keys:\")\n",
    "for key, dtype in data_types.items():\n",
    "    print(f\"{key}: {dtype}\")"
   ]
  },
  {
   "cell_type": "code",
   "execution_count": 6,
   "metadata": {},
   "outputs": [
    {
     "name": "stdout",
     "output_type": "stream",
     "text": [
      "\n",
      "Data types associated with the keys in 'meta':\n",
      "view: <class 'dict'>\n"
     ]
    }
   ],
   "source": [
    "# Your code here (metadata)\n",
    "if 'meta' in data:\n",
    "    meta_data_types = {key: type(data['meta'][key]) for key in data['meta'].keys()}\n",
    "    print(\"\\nData types associated with the keys in 'meta':\")\n",
    "    for key, dtype in meta_data_types.items():\n",
    "        print(f\"{key}: {dtype}\")"
   ]
  },
  {
   "cell_type": "markdown",
   "metadata": {},
   "source": [
    "Perform additional exploration to understand the contents of these values. For dictionaries, what are their keys? For lists, what is the length, and what does the first element look like?"
   ]
  },
  {
   "cell_type": "code",
   "execution_count": null,
   "metadata": {},
   "outputs": [],
   "source": [
    "# Your code here (add additional cells as needed)"
   ]
  },
  {
   "cell_type": "code",
   "execution_count": 7,
   "metadata": {},
   "outputs": [
    {
     "name": "stdout",
     "output_type": "stream",
     "text": [
      "\n",
      "Exploring 'data' key:\n",
      "Length of 'data': 60266\n",
      "First element of 'data': [1, 'FF49C41F-CE8D-46C4-9164-653B1227CF6F', 1, 1527194521, '959778', 1527194521, '959778', None, '2016', '2016', 'US', 'United States', 'BRFSS', 'Alcohol', 'Binge drinking prevalence among adults aged >= 18 years', None, '%', 'Crude Prevalence', '16.9', '16.9', '*', '50 States + DC: US Median', '16', '18', 'Overall', 'Overall', None, None, None, None, [None, None, None, None, None], None, '59', 'ALC', 'ALC2_2', 'CRDPREV', 'OVERALL', 'OVR', None, None, None, None]\n"
     ]
    }
   ],
   "source": [
    "# Explore the 'data' key if it's a list\n",
    "if 'data' in data and isinstance(data['data'], list):\n",
    "    print(\"\\nExploring 'data' key:\")\n",
    "    print(\"Length of 'data':\", len(data['data']))\n",
    "    if len(data['data']) > 0:\n",
    "        print(\"First element of 'data':\", data['data'][0])"
   ]
  },
  {
   "cell_type": "code",
   "execution_count": 8,
   "metadata": {},
   "outputs": [
    {
     "name": "stdout",
     "output_type": "stream",
     "text": [
      "\n",
      "Exploring 'meta' key:\n",
      "Keys in 'meta': ['view']\n",
      "view: {'id': 'g4ie-h725', 'name': 'U.S. Chronic Disease Indicators (CDI)', 'attribution': 'Centers for Disease Control and Prevention, National Center for Chronic Disease Prevention and Health Promotion, Division of Population Health', 'attributionLink': 'http://www.cdc.gov/nccdphp/dph/', 'averageRating': 0, 'category': 'Chronic Disease Indicators', 'createdAt': 1463517008, 'description': \"CDC's Division of Population Health provides cross-cutting set of 124 indicators that were developed by consensus and that allows states and territories and large metropolitan areas to uniformly define, collect, and report chronic disease data that are important to public health practice and available for states, territories and large metropolitan areas. In addition to providing access to state-specific indicator data, the CDI web site serves as a gateway to additional information and data resources.\", 'displayType': 'table', 'downloadCount': 80068, 'hideFromCatalog': False, 'hideFromDataJson': False, 'indexUpdatedAt': 1531158109, 'licenseId': 'PUBLIC_DOMAIN', 'newBackend': False, 'numberOfComments': 0, 'oid': 28887577, 'provenance': 'official', 'publicationAppendEnabled': False, 'publicationDate': 1527195619, 'publicationGroup': 10787757, 'publicationStage': 'published', 'rowClass': '', 'rowsUpdatedAt': 1527194748, 'rowsUpdatedBy': 'fwb6-kmt3', 'tableId': 15222261, 'totalTimesRated': 0, 'viewCount': 15880, 'viewLastModified': 1531157635, 'viewType': 'tabular', 'columns': [{'id': -1, 'name': 'sid', 'dataTypeName': 'meta_data', 'fieldName': ':sid', 'position': 0, 'renderTypeName': 'meta_data', 'format': {}, 'flags': ['hidden']}, {'id': -1, 'name': 'id', 'dataTypeName': 'meta_data', 'fieldName': ':id', 'position': 0, 'renderTypeName': 'meta_data', 'format': {}, 'flags': ['hidden']}, {'id': -1, 'name': 'position', 'dataTypeName': 'meta_data', 'fieldName': ':position', 'position': 0, 'renderTypeName': 'meta_data', 'format': {}, 'flags': ['hidden']}, {'id': -1, 'name': 'created_at', 'dataTypeName': 'meta_data', 'fieldName': ':created_at', 'position': 0, 'renderTypeName': 'meta_data', 'format': {}, 'flags': ['hidden']}, {'id': -1, 'name': 'created_meta', 'dataTypeName': 'meta_data', 'fieldName': ':created_meta', 'position': 0, 'renderTypeName': 'meta_data', 'format': {}, 'flags': ['hidden']}, {'id': -1, 'name': 'updated_at', 'dataTypeName': 'meta_data', 'fieldName': ':updated_at', 'position': 0, 'renderTypeName': 'meta_data', 'format': {}, 'flags': ['hidden']}, {'id': -1, 'name': 'updated_meta', 'dataTypeName': 'meta_data', 'fieldName': ':updated_meta', 'position': 0, 'renderTypeName': 'meta_data', 'format': {}, 'flags': ['hidden']}, {'id': -1, 'name': 'meta', 'dataTypeName': 'meta_data', 'fieldName': ':meta', 'position': 0, 'renderTypeName': 'meta_data', 'format': {}, 'flags': ['hidden']}, {'id': 360864928, 'name': 'YearStart', 'dataTypeName': 'number', 'description': 'Starting Year\\n', 'fieldName': 'yearstart', 'position': 1, 'renderTypeName': 'number', 'tableColumnId': 36246792, 'width': 208, 'cachedContents': {'largest': '2016', 'non_null': 519718, 'average': '2013.141884637438', 'null': 0, 'top': [{'item': '2016', 'count': 20}, {'item': '2015', 'count': 19}, {'item': '2014', 'count': 18}, {'item': '2013', 'count': 17}, {'item': '2012', 'count': 16}, {'item': '2011', 'count': 15}, {'item': '2010', 'count': 14}, {'item': '2009', 'count': 13}, {'item': '2008', 'count': 12}, {'item': '2007', 'count': 11}, {'item': '2001', 'count': 10}], 'smallest': '2001', 'sum': '1046266074'}, 'format': {'precisionStyle': 'standard', 'noCommas': 'true', 'align': 'right'}}, {'id': 360864929, 'name': 'YearEnd', 'dataTypeName': 'number', 'description': 'Ending Year\\n', 'fieldName': 'yearend', 'position': 2, 'renderTypeName': 'number', 'tableColumnId': 36246793, 'width': 184, 'cachedContents': {'largest': '2016', 'non_null': 519718, 'average': '2013.162753647170', 'null': 0, 'top': [{'item': '2016', 'count': 20}, {'item': '2015', 'count': 19}, {'item': '2014', 'count': 18}, {'item': '2013', 'count': 17}, {'item': '2012', 'count': 16}, {'item': '2011', 'count': 15}, {'item': '2010', 'count': 14}, {'item': '2008', 'count': 13}, {'item': '2007', 'count': 12}, {'item': '2001', 'count': 11}], 'smallest': '2001', 'sum': '1046276920'}, 'format': {'precisionStyle': 'standard', 'noCommas': 'true', 'align': 'right'}}, {'id': 360864930, 'name': 'LocationAbbr', 'dataTypeName': 'text', 'description': 'Location Abbreviation\\n', 'fieldName': 'locationabbr', 'position': 3, 'renderTypeName': 'text', 'tableColumnId': 36246794, 'width': 244, 'cachedContents': {'largest': 'WY', 'non_null': 519718, 'null': 0, 'top': [{'item': 'GU', 'count': 20}, {'item': 'PR', 'count': 19}, {'item': 'VI', 'count': 18}, {'item': 'US', 'count': 17}, {'item': 'NH', 'count': 16}, {'item': 'NY', 'count': 15}, {'item': 'RI', 'count': 14}, {'item': 'SC', 'count': 13}, {'item': 'SD', 'count': 12}, {'item': 'VT', 'count': 11}, {'item': 'ME', 'count': 10}, {'item': 'DC', 'count': 9}, {'item': 'FL', 'count': 8}, {'item': 'HI', 'count': 7}, {'item': 'NM', 'count': 6}], 'smallest': 'AK'}, 'format': {'displayStyle': 'plain', 'align': 'left'}}, {'id': 360864931, 'name': 'LocationDesc', 'dataTypeName': 'text', 'description': 'Location Description\\n', 'fieldName': 'locationdesc', 'position': 4, 'renderTypeName': 'text', 'tableColumnId': 36246795, 'width': 244, 'cachedContents': {'largest': 'Wyoming', 'non_null': 519718, 'null': 0, 'top': [{'item': 'Guam', 'count': 20}, {'item': 'Puerto Rico', 'count': 19}, {'item': 'Virgin Islands', 'count': 18}, {'item': 'United States', 'count': 17}, {'item': 'New Hampshire', 'count': 16}, {'item': 'New York', 'count': 15}, {'item': 'Rhode Island', 'count': 14}, {'item': 'South Carolina', 'count': 13}, {'item': 'South Dakota', 'count': 12}, {'item': 'Vermont', 'count': 11}, {'item': 'Maine', 'count': 10}, {'item': 'District of Columbia', 'count': 9}, {'item': 'Florida', 'count': 8}, {'item': 'Hawaii', 'count': 7}, {'item': 'New Mexico', 'count': 6}], 'smallest': 'Alabama'}, 'format': {'displayStyle': 'plain', 'align': 'left'}}, {'id': 360864932, 'name': 'DataSource', 'dataTypeName': 'text', 'description': 'Data Source Abbreviation\\n', 'fieldName': 'datasource', 'position': 5, 'renderTypeName': 'text', 'tableColumnId': 36246796, 'width': 220, 'cachedContents': {'largest': 'YRBSS', 'non_null': 519718, 'null': 0, 'top': [{'item': 'BRFSS', 'count': 20}, {'item': 'YRBSS', 'count': 19}, {'item': 'ACS 5-Year Estimates', 'count': 18}, {'item': 'USRDS', 'count': 17}, {'item': 'CDC School Health Profiles', 'count': 16}, {'item': 'State Inpatient Data', 'count': 15}, {'item': 'NVSS', 'count': 14}, {'item': 'SEDD; SID', 'count': 13}, {'item': 'STATE', 'count': 12}, {'item': 'CDC Breastfeeding Report Card', 'count': 11}, {'item': 'APIS', 'count': 10}, {'item': 'Legal Research', 'count': 9}, {'item': 'mPINC', 'count': 8}, {'item': 'HRSA, UDS', 'count': 7}, {'item': 'ASHW', 'count': 6}, {'item': 'ANRF', 'count': 5}, {'item': 'AEDS', 'count': 4}, {'item': 'InfoUSA; USDA', 'count': 3}, {'item': 'WFRS', 'count': 2}, {'item': 'National Immunization Survey', 'count': 1}], 'smallest': 'ACS 1-Year Estimates'}, 'format': {'displayStyle': 'plain', 'align': 'left'}}, {'id': 360864933, 'name': 'Topic', 'dataTypeName': 'text', 'description': 'Topic\\n', 'fieldName': 'topic', 'position': 6, 'renderTypeName': 'text', 'tableColumnId': 36246797, 'width': 160, 'cachedContents': {'largest': 'Tobacco', 'non_null': 519718, 'null': 0, 'top': [{'item': 'Alcohol', 'count': 20}, {'item': 'Arthritis', 'count': 19}, {'item': 'Asthma', 'count': 18}, {'item': 'Cancer', 'count': 17}, {'item': 'Diabetes', 'count': 16}, {'item': 'Chronic Obstructive Pulmonary Disease', 'count': 15}, {'item': 'Mental Health', 'count': 14}, {'item': 'Oral Health', 'count': 13}, {'item': 'Cardiovascular Disease', 'count': 12}, {'item': 'Immunization', 'count': 11}, {'item': 'Chronic Kidney Disease', 'count': 10}, {'item': 'Nutrition, Physical Activity, and Weight Status', 'count': 9}, {'item': 'Older Adults', 'count': 8}, {'item': 'Tobacco', 'count': 7}, {'item': 'Overarching Conditions', 'count': 6}, {'item': 'Reproductive Health', 'count': 5}, {'item': 'Disability', 'count': 4}], 'smallest': 'Alcohol'}, 'format': {'displayStyle': 'plain', 'align': 'left'}}, {'id': 360864934, 'name': 'Question', 'dataTypeName': 'text', 'description': 'Question full-length text\\n', 'fieldName': 'question', 'position': 7, 'renderTypeName': 'text', 'tableColumnId': 36246798, 'width': 196, 'cachedContents': {'largest': 'Work limitation due to arthritis among adults aged 18-64 years who have doctor-diagnosed arthritis', 'non_null': 519718, 'null': 0, 'top': [{'item': 'Mortality due to diabetes reported as any listed cause of death', 'count': 20}, {'item': 'Mortality with diabetic ketoacidosis reported as any listed cause of death', 'count': 19}, {'item': 'Premature mortality among adults aged 45-64 years', 'count': 18}, {'item': 'Chronic liver disease mortality', 'count': 17}, {'item': 'Asthma mortality rate', 'count': 16}, {'item': 'Mortality with end-stage renal disease', 'count': 15}, {'item': 'Mortality with chronic obstructive pulmonary disease as underlying cause among adults aged >= 45 years', 'count': 14}, {'item': 'Mortality with chronic obstructive pulmonary disease as underlying or contributing cause among adults aged >= 45 years', 'count': 13}, {'item': 'Mortality from total cardiovascular diseases', 'count': 12}, {'item': 'Mortality from diseases of the heart', 'count': 11}, {'item': 'Mortality from coronary heart disease', 'count': 10}, {'item': 'Mortality from heart failure', 'count': 9}, {'item': 'Mortality from cerebrovascular disease (stroke)', 'count': 8}, {'item': 'Emergency department visit rate for asthma', 'count': 7}, {'item': 'Disability among adults aged >= 65 years', 'count': 6}, {'item': 'Poverty', 'count': 5}, {'item': 'Prevalence of 2 or more chronic conditions among Medicare-enrolled persons aged >= 65 years', 'count': 4}, {'item': 'Emergency department visit rate for chronic obstructive pulmonary disease as first-listed diagnosis', 'count': 3}, {'item': 'Emergency department visit rate for chronic obstructive pulmonary disease as any diagnosis', 'count': 2}, {'item': 'Hospitalizations for asthma', 'count': 1}], 'smallest': 'Activity limitation due to arthritis among adults aged >= 18 years who have doctor-diagnosed arthritis'}, 'format': {'displayStyle': 'plain', 'align': 'left'}}, {'id': 360864935, 'name': 'Response', 'dataTypeName': 'text', 'description': 'Response\\n', 'fieldName': 'response', 'position': 8, 'renderTypeName': 'text', 'tableColumnId': 36246799, 'width': 196, 'cachedContents': {'largest': ' ', 'non_null': 79188, 'null': 440530, 'top': [{'item': ' ', 'count': 20}], 'smallest': ' '}, 'format': {'displayStyle': 'plain', 'align': 'left'}}, {'id': 360864936, 'name': 'DataValueUnit', 'dataTypeName': 'text', 'description': 'The unit, such as $, %, years, etc.\\n', 'fieldName': 'datavalueunit', 'position': 9, 'renderTypeName': 'text', 'tableColumnId': 36246800, 'width': 256, 'cachedContents': {'largest': 'Years', 'non_null': 476046, 'null': 43672, 'top': [{'item': '%', 'count': 20}, {'item': 'Number', 'count': 19}, {'item': 'cases per 1,000,000', 'count': 18}, {'item': 'cases per 10,000', 'count': 17}, {'item': ' ', 'count': 16}, {'item': '$', 'count': 15}, {'item': 'Number ', 'count': 14}, {'item': 'cases per 100,000', 'count': 13}, {'item': 'gallons', 'count': 12}, {'item': 'pack sales per capita', 'count': 11}, {'item': 'per 100,000 residents', 'count': 10}, {'item': 'Years', 'count': 9}, {'item': 'per 100,000', 'count': 8}, {'item': 'cases per 1,000', 'count': 7}], 'smallest': ' '}, 'format': {'displayStyle': 'plain', 'align': 'left'}}, {'id': 360864937, 'name': 'DataValueType', 'dataTypeName': 'text', 'description': 'The data type, such as prevalence or mean\\n', 'fieldName': 'datavaluetype', 'position': 10, 'renderTypeName': 'text', 'tableColumnId': 36246802, 'width': 256, 'cachedContents': {'largest': 'Yes/No', 'non_null': 519718, 'null': 0, 'top': [{'item': 'Crude Prevalence', 'count': 20}, {'item': 'Age-adjusted Prevalence', 'count': 19}, {'item': 'Mean', 'count': 18}, {'item': 'Age-adjusted Mean', 'count': 17}, {'item': 'Number', 'count': 16}, {'item': 'Median', 'count': 15}, {'item': 'Adjusted by age, sex, race and ethnicity', 'count': 14}, {'item': 'Percent', 'count': 13}, {'item': 'Age-adjusted Rate', 'count': 12}, {'item': 'Crude Rate', 'count': 11}, {'item': 'Yes/No', 'count': 10}, {'item': 'US Dollars', 'count': 9}, {'item': 'Commercial host (dram shop) liability status for alcohol service', 'count': 8}, {'item': 'Local control of the regulation of alcohol outlet density', 'count': 7}, {'item': 'Per capita alcohol consumption', 'count': 6}, {'item': 'Prevalence', 'count': 5}, {'item': 'Average Annual Number', 'count': 4}, {'item': 'Average Annual Age-adjusted Rate', 'count': 3}, {'item': 'Average Annual Crude Rate', 'count': 2}], 'smallest': 'Adjusted by age, sex, race and ethnicity'}, 'format': {'displayStyle': 'plain', 'align': 'left'}}, {'id': 360864938, 'name': 'DataValue', 'dataTypeName': 'text', 'description': 'Data Value, such as 14.7 or Category 1\\n', 'fieldName': 'datavalue', 'position': 11, 'renderTypeName': 'text', 'tableColumnId': 36246803, 'width': 208, 'cachedContents': {'largest': 'Yes', 'non_null': 374564, 'null': 145154, 'top': [{'item': ' ', 'count': 20}, {'item': '83.2', 'count': 19}, {'item': '87.8', 'count': 18}, {'item': '86.8', 'count': 17}, {'item': '84.5', 'count': 16}, {'item': 'Yes', 'count': 15}, {'item': 'No', 'count': 14}, {'item': '3.2', 'count': 13}, {'item': '3.8', 'count': 12}, {'item': '4.4', 'count': 11}, {'item': '3.6', 'count': 10}, {'item': '2.9', 'count': 9}, {'item': '3.5', 'count': 8}, {'item': '4.3', 'count': 7}, {'item': '3', 'count': 6}, {'item': '4.9', 'count': 5}, {'item': '4.1', 'count': 4}, {'item': '4', 'count': 3}, {'item': '3.1', 'count': 2}, {'item': '3.7', 'count': 1}], 'smallest': ' '}, 'format': {'displayStyle': 'plain', 'align': 'left'}}, {'id': 360864939, 'name': 'DataValueAlt', 'dataTypeName': 'number', 'description': 'Equal to Data Value, but formatting is numeric\\n', 'fieldName': 'datavaluealt', 'position': 12, 'renderTypeName': 'number', 'tableColumnId': 36246804, 'width': 244, 'cachedContents': {'largest': '2600878', 'non_null': 350335, 'average': '891.7742131673969', 'null': 169383, 'top': [{'item': '83.2', 'count': 20}, {'item': '84.5', 'count': 19}, {'item': '87.8', 'count': 18}, {'item': '3.2', 'count': 17}, {'item': '3.8', 'count': 16}, {'item': '3.6', 'count': 15}, {'item': '3.5', 'count': 14}, {'item': '4.3', 'count': 13}, {'item': '3', 'count': 12}, {'item': '4.9', 'count': 11}, {'item': '4.1', 'count': 10}, {'item': '4', 'count': 9}, {'item': '3.1', 'count': 8}, {'item': '4.4', 'count': 7}, {'item': '3.7', 'count': 6}, {'item': '3.3', 'count': 5}, {'item': '3.9', 'count': 4}, {'item': '2.8', 'count': 3}, {'item': '4.2', 'count': 2}, {'item': '2.9', 'count': 1}], 'smallest': '0', 'sum': '312419718.97'}, 'format': {'precisionStyle': 'standard', 'noCommas': 'false', 'align': 'right'}}, {'id': 360864940, 'name': 'DataValueFootnoteSymbol', 'dataTypeName': 'text', 'description': 'Footnote Symbol\\n', 'fieldName': 'datavaluefootnotesymbol', 'position': 13, 'renderTypeName': 'text', 'tableColumnId': 36246805, 'width': 376, 'cachedContents': {'largest': 'â€\\xa0â€\\xa0â€\\xa0', 'non_null': 227318, 'null': 292400, 'top': [{'item': '*', 'count': 20}, {'item': '****', 'count': 19}, {'item': '-', 'count': 18}, {'item': '##', 'count': 17}, {'item': '***', 'count': 16}, {'item': ' ', 'count': 15}, {'item': '~', 'count': 14}, {'item': '^^', 'count': 13}, {'item': 'Â§,â€¡', 'count': 12}, {'item': 'Â§', 'count': 11}, {'item': '^^^', 'count': 10}, {'item': 'â€\\xa0â€\\xa0â€\\xa0', 'count': 9}, {'item': 'Â§,â€¡,^', 'count': 8}, {'item': '#', 'count': 7}, {'item': '*, #', 'count': 6}, {'item': 'Â§Â§', 'count': 5}, {'item': '~~~', 'count': 4}, {'item': '^^^^', 'count': 3}, {'item': '**', 'count': 2}], 'smallest': ' '}, 'format': {'displayStyle': 'plain', 'align': 'left'}}, {'id': 360864941, 'name': 'DatavalueFootnote', 'dataTypeName': 'text', 'description': 'Footnote Text\\n', 'fieldName': 'datavaluefootnote', 'position': 14, 'renderTypeName': 'text', 'tableColumnId': 36246806, 'width': 304, 'cachedContents': {'largest': 'US Median based on the number of participating states and/or excluding states with sample size below 50 or relative standard error above 30%', 'non_null': 227152, 'null': 292566, 'top': [{'item': '50 States + DC: US Median', 'count': 20}, {'item': 'Sample size of denominator and/or age group for age-standardization is less than 50 or relative standard error is more than 30%', 'count': 19}, {'item': 'No data available', 'count': 18}, {'item': 'Estimate is 0.0% because no cases were reported with this condition', 'count': 17}, {'item': 'US Median based on the number of participating states and/or excluding states with sample size below 50 or relative standard error above 30%', 'count': 16}, {'item': ' ', 'count': 15}, {'item': 'Data not shown because of too few respondents or cases', 'count': 14}, {'item': 'State directly controlled the sale of (beer/wine/distilled spirits) at the retail and/or wholesale levels. State prices for (beer/wine/distilled spirits) combined both markups and taxes, so tax rates for this beverage type could not be determined.', 'count': 13}, {'item': 'Population served by CWS exceeded the US Census state population estimate; number of people was reduced by the ratio of the population estimate to the CWS population estimate.  Complete data were not available from WFRS; state provided additional information.', 'count': 12}, {'item': 'Population served by CWS exceeded the US Census state population estimate; number of people was reduced by the ratio of the population estimate to the CWS population estimate', 'count': 11}, {'item': 'DC was not rated for this measure because the measure addresses state versus local authority and does not apply to the District of Columbia', 'count': 10}, {'item': 'A confidence interval for this location is not available because a census was used instead of a sample for their surveys', 'count': 9}, {'item': 'Population served by CWS exceeded the US Census state population estimate; number of people was reduced by the ratio of the population estimate to the CWS population estimate.  Complete data were not available from WFRS; state provided additional information.  California is developing new methodology to describe the fluoridated status of water systems that draw water from multiple sources (e.g., ground water, surface water). This report does not reflect Californiaâ€™s new methodology.', 'count': 8}, {'item': 'NSCH Data provided by Data Resource Center for Child and Adolescent Health.  http://www.childhealthdata.org', 'count': 7}, {'item': '50 states + DC:  Median Percent; NSCH Data provided by Data Resource Center for Child and Adolescent Health.  http://www.childhealthdata.org', 'count': 6}, {'item': 'Per capita alcohol consumption was calculated using (1) alcohol beverage sales data, either collected directly from states or provided by beverage industry sources (numerator); and (2) population data from the U.S. Census Bureau (denominator).', 'count': 5}, {'item': 'Data are not available because cancer registry did not meet the data quality criteria for all the years for publication in United States Cancer statistics (USCS)', 'count': 4}, {'item': 'Data are from cancer registries that meet the data quality criteria for all invasive cancer sites combined, for all years covering approximately 99% of the U.S. population. See registry-specific data quality information at http://www.cdc.gov/cancer/npcr/uscs/data/00_data_quality.htm', 'count': 3}, {'item': 'US estimate/number is based on fewer than 50 states and the District of Columbia', 'count': 2}], 'smallest': ' '}, 'format': {'displayStyle': 'plain', 'align': 'left'}}, {'id': 360864942, 'name': 'LowConfidenceLimit', 'dataTypeName': 'number', 'description': 'Low Confidence Limit\\n', 'fieldName': 'lowconfidencelimit', 'position': 15, 'renderTypeName': 'number', 'tableColumnId': 36246807, 'width': 316, 'cachedContents': {'largest': '1330.66', 'non_null': 311062, 'average': '46.75940127691586', 'null': 208656, 'top': [{'item': '10.7', 'count': 20}, {'item': '13.9', 'count': 19}, {'item': '11.4', 'count': 18}, {'item': '11', 'count': 17}, {'item': '10.3', 'count': 16}, {'item': '12.4', 'count': 15}, {'item': '3.7', 'count': 14}, {'item': '3.4', 'count': 13}, {'item': '3.3', 'count': 12}, {'item': '2.7', 'count': 11}, {'item': '3.2', 'count': 10}, {'item': '4.1', 'count': 9}, {'item': '2.8', 'count': 8}, {'item': '4.7', 'count': 7}, {'item': '3.8', 'count': 6}, {'item': '3.6', 'count': 5}, {'item': '3.9', 'count': 4}, {'item': '2.9', 'count': 3}, {'item': '3.5', 'count': 2}, {'item': '3.1', 'count': 1}], 'smallest': '0.2', 'sum': '14545072.88'}, 'format': {'precisionStyle': 'standard', 'noCommas': 'false', 'align': 'right'}}, {'id': 360864943, 'name': 'HighConfidenceLimit', 'dataTypeName': 'number', 'description': 'High Confidence Limit\\n', 'fieldName': 'highconfidencelimit', 'position': 16, 'renderTypeName': 'number', 'tableColumnId': 36246808, 'width': 328, 'cachedContents': {'largest': '2088.00', 'non_null': 311062, 'average': '58.99128656023558', 'null': 208656, 'top': [{'item': '12.3', 'count': 20}, {'item': '11.1', 'count': 19}, {'item': '3.5', 'count': 18}, {'item': '4.4', 'count': 17}, {'item': '5', 'count': 16}, {'item': '4', 'count': 15}, {'item': '3.7', 'count': 14}, {'item': '3.8', 'count': 13}, {'item': '4.3', 'count': 12}, {'item': '4.7', 'count': 11}, {'item': '3.9', 'count': 10}, {'item': '3.2', 'count': 9}, {'item': '4.2', 'count': 8}, {'item': '4.6', 'count': 7}, {'item': '3.3', 'count': 6}, {'item': '5.2', 'count': 5}, {'item': '4.5', 'count': 4}, {'item': '4.1', 'count': 3}, {'item': '3', 'count': 2}, {'item': '3.1', 'count': 1}], 'smallest': '0.42', 'sum': '18349947.58'}, 'format': {'precisionStyle': 'standard', 'noCommas': 'false', 'align': 'right'}}, {'id': 360864944, 'name': 'StratificationCategory1', 'dataTypeName': 'text', 'description': 'The category of the stratification, such as Gender, Overall, or Race/Ethnicity\\n', 'fieldName': 'stratificationcategory1', 'position': 17, 'renderTypeName': 'text', 'tableColumnId': 36246809, 'width': 376, 'cachedContents': {'largest': 'Race/Ethnicity', 'non_null': 519718, 'null': 0, 'top': [{'item': 'Overall', 'count': 20}, {'item': 'Gender', 'count': 19}, {'item': 'Race/Ethnicity', 'count': 18}], 'smallest': 'Gender'}, 'format': {'displayStyle': 'plain', 'align': 'left'}}, {'id': 360864945, 'name': 'Stratification1', 'dataTypeName': 'text', 'description': 'The stratification within the category, such as Male or Female, White/non-Hispanic, Hispanic, Black/non-Hispanic, American Indian or Alaska Native, Asian or Pacific Islander, Multi-racial/non-Hispanic, Other/non-Hispanic, or Overall\\n', 'fieldName': 'stratification1', 'position': 18, 'renderTypeName': 'text', 'tableColumnId': 36246810, 'width': 280, 'cachedContents': {'largest': 'White, non-Hispanic', 'non_null': 519718, 'null': 0, 'top': [{'item': 'Overall', 'count': 20}, {'item': 'Male', 'count': 19}, {'item': 'Female', 'count': 18}, {'item': 'White, non-Hispanic', 'count': 17}, {'item': 'Black, non-Hispanic', 'count': 16}, {'item': 'Hispanic', 'count': 15}, {'item': 'Other, non-Hispanic', 'count': 14}, {'item': 'Multiracial, non-Hispanic', 'count': 13}, {'item': 'American Indian or Alaska Native', 'count': 12}, {'item': 'Asian or Pacific Islander', 'count': 11}, {'item': 'Asian, non-Hispanic', 'count': 10}], 'smallest': 'American Indian or Alaska Native'}, 'format': {'displayStyle': 'plain', 'align': 'left'}}, {'id': 360864946, 'name': 'StratificationCategory2', 'dataTypeName': 'text', 'fieldName': 'stratificationcategory2', 'position': 19, 'renderTypeName': 'text', 'tableColumnId': 36246811, 'width': 376, 'cachedContents': {'largest': ' ', 'non_null': 79188, 'null': 440530, 'top': [{'item': ' ', 'count': 20}], 'smallest': ' '}, 'format': {}}, {'id': 360864947, 'name': 'Stratification2', 'dataTypeName': 'text', 'fieldName': 'stratification2', 'position': 20, 'renderTypeName': 'text', 'tableColumnId': 36246812, 'width': 280, 'cachedContents': {'largest': ' ', 'non_null': 79188, 'null': 440530, 'top': [{'item': ' ', 'count': 20}], 'smallest': ' '}, 'format': {}}, {'id': 360864948, 'name': 'StratificationCategory3', 'dataTypeName': 'text', 'fieldName': 'stratificationcategory3', 'position': 21, 'renderTypeName': 'text', 'tableColumnId': 36246813, 'width': 376, 'cachedContents': {'largest': ' ', 'non_null': 79188, 'null': 440530, 'top': [{'item': ' ', 'count': 20}], 'smallest': ' '}, 'format': {}}, {'id': 360864949, 'name': 'Stratification3', 'dataTypeName': 'text', 'fieldName': 'stratification3', 'position': 22, 'renderTypeName': 'text', 'tableColumnId': 36246814, 'width': 280, 'cachedContents': {'largest': ' ', 'non_null': 79188, 'null': 440530, 'top': [{'item': ' ', 'count': 20}], 'smallest': ' '}, 'format': {}}, {'id': 360864950, 'name': 'GeoLocation', 'dataTypeName': 'location', 'description': 'Location code to be used for Geocoding\\n', 'fieldName': 'geolocation', 'position': 23, 'renderTypeName': 'location', 'tableColumnId': 36246815, 'width': 232, 'cachedContents': {'largest': {'latitude': '34.52088095200048', 'longitude': '-106.24058098499967'}, 'non_null': 516115, 'null': 3603, 'top': [{'item': {'latitude': '13.444304', 'longitude': '144.793731'}, 'count': 20}, {'item': {'latitude': '18.220833', 'longitude': '-66.590149'}, 'count': 19}, {'item': {'latitude': '18.335765', 'longitude': '-64.896335'}, 'count': 18}, {'item': {'latitude': '31.827240407000488', 'longitude': '-99.42677020599967'}, 'count': 17}, {'item': {'latitude': '39.360700171000474', 'longitude': '-111.58713063499971'}, 'count': 16}, {'item': {'latitude': '43.62538123900049', 'longitude': '-72.51764079099962'}, 'count': 15}, {'item': {'latitude': '37.54268067400045', 'longitude': '-78.45789046299967'}, 'count': 14}, {'item': {'latitude': '47.52227862900048', 'longitude': '-120.47001078999972'}, 'count': 13}, {'item': {'latitude': '38.66551020200046', 'longitude': '-80.71264013499967'}, 'count': 12}, {'item': {'latitude': '44.39319117400049', 'longitude': '-89.81637074199966'}, 'count': 11}, {'item': {'latitude': '43.23554134300048', 'longitude': '-108.10983035299967'}, 'count': 10}, {'item': {'latitude': '38.907192', 'longitude': '-77.036871'}, 'count': 9}, {'item': {'latitude': '43.65595011300047', 'longitude': '-71.50036091999965'}, 'count': 8}, {'item': {'latitude': '45.254228894000505', 'longitude': '-68.98503133599962'}, 'count': 7}, {'item': {'latitude': '42.27687047000046', 'longitude': '-72.08269067499964'}, 'count': 6}, {'item': {'latitude': '37.63864012300047', 'longitude': '-120.99999953799971'}, 'count': 5}, {'item': {'latitude': '38.843840757000464', 'longitude': '-106.13361092099967'}, 'count': 4}, {'item': {'latitude': '42.46940091300047', 'longitude': '-93.81649055599968'}, 'count': 3}, {'item': {'latitude': '39.766910452000445', 'longitude': '-86.14996019399968'}, 'count': 2}, {'item': {'latitude': '46.35564873600049', 'longitude': '-94.79420050299967'}, 'count': 1}], 'smallest': {'latitude': '32.84057112200048', 'longitude': '-86.63186076199969'}}, 'format': {'view': 'address_coords', 'align': 'left'}, 'subColumnTypes': ['human_address', 'latitude', 'longitude', 'machine_address', 'needs_recoding']}, {'id': 360864951, 'name': 'ResponseID', 'dataTypeName': 'text', 'description': 'Identifier for the Response\\n', 'fieldName': 'responseid', 'position': 24, 'renderTypeName': 'text', 'tableColumnId': 36246818, 'width': 220, 'cachedContents': {'largest': ' ', 'non_null': 79176, 'null': 440542, 'top': [{'item': ' ', 'count': 20}], 'smallest': ' '}, 'format': {'displayStyle': 'plain', 'align': 'left'}}, {'id': 360864952, 'name': 'LocationID', 'dataTypeName': 'text', 'description': 'Location Identifier\\n', 'fieldName': 'locationid', 'position': 25, 'renderTypeName': 'text', 'tableColumnId': 36246819, 'width': 220, 'cachedContents': {'largest': '78', 'non_null': 519718, 'null': 0, 'top': [{'item': '66', 'count': 20}, {'item': '72', 'count': 19}, {'item': '78', 'count': 18}, {'item': '59', 'count': 17}, {'item': '33', 'count': 16}, {'item': '36', 'count': 15}, {'item': '44', 'count': 14}, {'item': '45', 'count': 13}, {'item': '46', 'count': 12}, {'item': '50', 'count': 11}, {'item': '23', 'count': 10}, {'item': '11', 'count': 9}, {'item': '12', 'count': 8}, {'item': '15', 'count': 7}, {'item': '35', 'count': 6}], 'smallest': '01'}, 'format': {'displayStyle': 'plain', 'align': 'left'}}, {'id': 360864953, 'name': 'TopicID', 'dataTypeName': 'text', 'fieldName': 'topicid', 'position': 26, 'renderTypeName': 'text', 'tableColumnId': 36246816, 'width': 184, 'cachedContents': {'largest': 'TOB', 'non_null': 519718, 'null': 0, 'top': [{'item': 'ALC', 'count': 20}, {'item': 'ART', 'count': 19}, {'item': 'AST', 'count': 18}, {'item': 'CAN', 'count': 17}, {'item': 'DIA', 'count': 16}, {'item': 'COPD', 'count': 15}, {'item': 'MTH', 'count': 14}, {'item': 'ORH', 'count': 13}, {'item': 'CVD', 'count': 12}, {'item': 'IMM', 'count': 11}, {'item': 'CKD', 'count': 10}, {'item': 'NPAW', 'count': 9}, {'item': 'OLD', 'count': 8}, {'item': 'TOB', 'count': 7}, {'item': 'OVC', 'count': 6}, {'item': 'RPH', 'count': 5}, {'item': 'DIS', 'count': 4}], 'smallest': 'ALC'}, 'format': {}}, {'id': 360864954, 'name': 'QuestionID', 'dataTypeName': 'text', 'description': 'Question Identifier\\n', 'fieldName': 'questionid', 'position': 27, 'renderTypeName': 'text', 'tableColumnId': 36246817, 'width': 220, 'cachedContents': {'largest': 'TOB9_0', 'non_null': 519718, 'null': 0, 'top': [{'item': 'DIA1_1', 'count': 20}, {'item': 'DIA1_2', 'count': 19}, {'item': 'OVC5_0', 'count': 18}, {'item': 'ALC6_0', 'count': 17}, {'item': 'AST4_1', 'count': 16}, {'item': 'CKD1_0', 'count': 15}, {'item': 'COPD1_1', 'count': 14}, {'item': 'COPD1_2', 'count': 13}, {'item': 'CVD1_1', 'count': 12}, {'item': 'CVD1_2', 'count': 11}, {'item': 'CVD1_3', 'count': 10}, {'item': 'CVD1_4', 'count': 9}, {'item': 'CVD1_5', 'count': 8}, {'item': 'AST2_1', 'count': 7}, {'item': 'DIS1_0', 'count': 6}, {'item': 'OVC3_1', 'count': 5}, {'item': 'OLD4_0', 'count': 4}, {'item': 'COPD6_1', 'count': 3}, {'item': 'COPD6_2', 'count': 2}, {'item': 'AST3_1', 'count': 1}], 'smallest': 'ALC1_1'}, 'format': {'displayStyle': 'plain', 'align': 'left'}}, {'id': 360864955, 'name': 'DataValueTypeID', 'dataTypeName': 'text', 'description': 'Identifier for the Data Value Type\\n', 'fieldName': 'datavaluetypeid', 'position': 28, 'renderTypeName': 'text', 'tableColumnId': 36246801, 'width': 280, 'cachedContents': {'largest': 'YESNO', 'non_null': 519718, 'null': 0, 'top': [{'item': 'CRDPREV', 'count': 20}, {'item': 'AGEADJPREV', 'count': 19}, {'item': 'MEAN', 'count': 18}, {'item': 'AGEADJMEAN', 'count': 17}, {'item': 'NMBR', 'count': 16}, {'item': 'MEDIAN', 'count': 15}, {'item': 'AGESEXRACEADJRATE', 'count': 14}, {'item': 'PRCT', 'count': 13}, {'item': 'AGEADJRATE', 'count': 12}, {'item': 'CRDRATE', 'count': 11}, {'item': 'YESNO', 'count': 10}, {'item': 'USD', 'count': 9}, {'item': 'COMMHSTLIAB', 'count': 8}, {'item': 'LCLCNTRLALC', 'count': 7}, {'item': 'PERCAPALC', 'count': 6}, {'item': 'PREV', 'count': 5}, {'item': 'AVGANNNMBR', 'count': 4}, {'item': 'AVGANNAGEADJRATE', 'count': 3}, {'item': 'AVGANNCRDRATE', 'count': 2}], 'smallest': 'AGEADJMEAN'}, 'format': {'displayStyle': 'plain', 'align': 'left'}}, {'id': 360864956, 'name': 'StratificationCategoryID1', 'dataTypeName': 'text', 'description': 'Identifier for stratification category 1\\n', 'fieldName': 'stratificationcategoryid1', 'position': 29, 'renderTypeName': 'text', 'tableColumnId': 36246820, 'width': 400, 'cachedContents': {'largest': 'RACE', 'non_null': 519718, 'null': 0, 'top': [{'item': 'OVERALL', 'count': 20}, {'item': 'GENDER', 'count': 19}, {'item': 'RACE', 'count': 18}], 'smallest': 'GENDER'}, 'format': {'displayStyle': 'plain', 'align': 'left'}}, {'id': 360864957, 'name': 'StratificationID1', 'dataTypeName': 'text', 'description': 'Identifier for stratification 1\\n', 'fieldName': 'stratificationid1', 'position': 30, 'renderTypeName': 'text', 'tableColumnId': 36246821, 'width': 304, 'cachedContents': {'largest': 'WHT', 'non_null': 519718, 'null': 0, 'top': [{'item': 'OVR', 'count': 20}, {'item': 'GENM', 'count': 19}, {'item': 'GENF', 'count': 18}, {'item': 'WHT', 'count': 17}, {'item': 'BLK', 'count': 16}, {'item': 'HIS', 'count': 15}, {'item': 'OTH', 'count': 14}, {'item': 'MRC', 'count': 13}, {'item': 'AIAN', 'count': 12}, {'item': 'API', 'count': 11}, {'item': 'ASN', 'count': 10}], 'smallest': 'AIAN'}, 'format': {'displayStyle': 'plain', 'align': 'left'}}, {'id': 360864958, 'name': 'StratificationCategoryID2', 'dataTypeName': 'text', 'fieldName': 'stratificationcategoryid2', 'position': 31, 'renderTypeName': 'text', 'tableColumnId': 36246822, 'width': 400, 'cachedContents': {'largest': ' ', 'non_null': 79189, 'null': 440529, 'top': [{'item': ' ', 'count': 20}], 'smallest': ' '}, 'format': {}}, {'id': 360864959, 'name': 'StratificationID2', 'dataTypeName': 'text', 'fieldName': 'stratificationid2', 'position': 32, 'renderTypeName': 'text', 'tableColumnId': 36246823, 'width': 304, 'cachedContents': {'largest': ' ', 'non_null': 79189, 'null': 440529, 'top': [{'item': ' ', 'count': 20}], 'smallest': ' '}, 'format': {}}, {'id': 360864960, 'name': 'StratificationCategoryID3', 'dataTypeName': 'text', 'fieldName': 'stratificationcategoryid3', 'position': 33, 'renderTypeName': 'text', 'tableColumnId': 36246824, 'width': 400, 'cachedContents': {'largest': ' ', 'non_null': 79188, 'null': 440530, 'top': [{'item': ' ', 'count': 20}], 'smallest': ' '}, 'format': {}}, {'id': 360864961, 'name': 'StratificationID3', 'dataTypeName': 'text', 'fieldName': 'stratificationid3', 'position': 34, 'renderTypeName': 'text', 'tableColumnId': 36246825, 'width': 304, 'cachedContents': {'largest': ' ', 'non_null': 79188, 'null': 440530, 'top': [{'item': ' ', 'count': 20}], 'smallest': ' '}, 'format': {}}], 'grants': [{'inherited': False, 'type': 'viewer', 'flags': ['public']}], 'license': {'name': 'Public Domain'}, 'metadata': {'rdfSubject': '0', 'rdfClass': '', 'custom_fields': {'Common Core': {'Contact Email': 'PublicInquiriesDPH@cdc.gov', 'Described By': 'https://chronicdata.cdc.gov/Chronic-Disease-Indicators/U-S-Chronic-Disease-Indicators-CDI-/g4ie-h725', 'References': 'https://www.cdc.gov/mmwr/pdf/rr/rr6401.pdf', 'Contact Name': 'DPH Public Inquiries', 'Program Code': '009:020', 'Publisher': 'Centers for Disease Control and Prevention', 'Bureau Code': '009:20', 'Public Access Level': 'Public Domain'}}, 'rowIdentifier': '0', 'rowLabel': 'Row', 'availableDisplayTypes': ['table', 'fatrow', 'page'], 'renderTypeConfig': {'visible': {'table': True}}}, 'owner': {'id': 'isr2-3jff', 'displayName': 'DPH Public Inquiries', 'screenName': 'DPH Public Inquiries', 'type': 'interactive'}, 'query': {}, 'rights': ['read'], 'tableAuthor': {'id': 'isr2-3jff', 'displayName': 'DPH Public Inquiries', 'screenName': 'DPH Public Inquiries', 'type': 'interactive'}, 'tags': ['cdi', 'chronic disease indicators', 'alcohol', 'arthritis', 'asthma', 'cancer', 'cardiovascular disease', 'chronic kidney disease', 'chronic obstructive pulmonary disease', 'diabetes', 'disability', 'immunization', 'mental health', 'nutrition physical activity and weight status', 'older adults', 'oral health', 'overarching conditions', 'reproductive health', 'tobacco', 'public health'], 'flags': ['default', 'restorable', 'restorePossibleForType']}\n"
     ]
    }
   ],
   "source": [
    "# Explore the 'meta' key if it's a dictionary\n",
    "if 'meta' in data and isinstance(data['meta'], dict):\n",
    "    print(\"\\nExploring 'meta' key:\")\n",
    "    meta_keys = data['meta'].keys()\n",
    "    print(\"Keys in 'meta':\", list(meta_keys))\n",
    "    for key in meta_keys:\n",
    "        print(f\"{key}: {data['meta'][key]}\")"
   ]
  },
  {
   "cell_type": "code",
   "execution_count": null,
   "metadata": {},
   "outputs": [],
   "source": []
  },
  {
   "cell_type": "code",
   "execution_count": null,
   "metadata": {},
   "outputs": [],
   "source": []
  },
  {
   "cell_type": "markdown",
   "metadata": {},
   "source": [
    "As you likely identified, we have a list of lists forming the `'data'`. In order to make sense of that list of lists, we need to find the meaning of each index, i.e. the names of the columns.\n",
    "\n",
    "## Identify the Column Names\n",
    "\n",
    "Look through the metadata to find the *names* of the columns, and assign that variable to `column_names`. This should be a list of strings. (If you just get the values associated with the `'columns'` key, you will have a list of dictionaries, not a list of strings.)"
   ]
  },
  {
   "cell_type": "code",
   "execution_count": 11,
   "metadata": {},
   "outputs": [
    {
     "name": "stdout",
     "output_type": "stream",
     "text": [
      "Contents of 'meta': {'view': {'id': 'g4ie-h725', 'name': 'U.S. Chronic Disease Indicators (CDI)', 'attribution': 'Centers for Disease Control and Prevention, National Center for Chronic Disease Prevention and Health Promotion, Division of Population Health', 'attributionLink': 'http://www.cdc.gov/nccdphp/dph/', 'averageRating': 0, 'category': 'Chronic Disease Indicators', 'createdAt': 1463517008, 'description': \"CDC's Division of Population Health provides cross-cutting set of 124 indicators that were developed by consensus and that allows states and territories and large metropolitan areas to uniformly define, collect, and report chronic disease data that are important to public health practice and available for states, territories and large metropolitan areas. In addition to providing access to state-specific indicator data, the CDI web site serves as a gateway to additional information and data resources.\", 'displayType': 'table', 'downloadCount': 80068, 'hideFromCatalog': False, 'hideFromDataJson': False, 'indexUpdatedAt': 1531158109, 'licenseId': 'PUBLIC_DOMAIN', 'newBackend': False, 'numberOfComments': 0, 'oid': 28887577, 'provenance': 'official', 'publicationAppendEnabled': False, 'publicationDate': 1527195619, 'publicationGroup': 10787757, 'publicationStage': 'published', 'rowClass': '', 'rowsUpdatedAt': 1527194748, 'rowsUpdatedBy': 'fwb6-kmt3', 'tableId': 15222261, 'totalTimesRated': 0, 'viewCount': 15880, 'viewLastModified': 1531157635, 'viewType': 'tabular', 'columns': [{'id': -1, 'name': 'sid', 'dataTypeName': 'meta_data', 'fieldName': ':sid', 'position': 0, 'renderTypeName': 'meta_data', 'format': {}, 'flags': ['hidden']}, {'id': -1, 'name': 'id', 'dataTypeName': 'meta_data', 'fieldName': ':id', 'position': 0, 'renderTypeName': 'meta_data', 'format': {}, 'flags': ['hidden']}, {'id': -1, 'name': 'position', 'dataTypeName': 'meta_data', 'fieldName': ':position', 'position': 0, 'renderTypeName': 'meta_data', 'format': {}, 'flags': ['hidden']}, {'id': -1, 'name': 'created_at', 'dataTypeName': 'meta_data', 'fieldName': ':created_at', 'position': 0, 'renderTypeName': 'meta_data', 'format': {}, 'flags': ['hidden']}, {'id': -1, 'name': 'created_meta', 'dataTypeName': 'meta_data', 'fieldName': ':created_meta', 'position': 0, 'renderTypeName': 'meta_data', 'format': {}, 'flags': ['hidden']}, {'id': -1, 'name': 'updated_at', 'dataTypeName': 'meta_data', 'fieldName': ':updated_at', 'position': 0, 'renderTypeName': 'meta_data', 'format': {}, 'flags': ['hidden']}, {'id': -1, 'name': 'updated_meta', 'dataTypeName': 'meta_data', 'fieldName': ':updated_meta', 'position': 0, 'renderTypeName': 'meta_data', 'format': {}, 'flags': ['hidden']}, {'id': -1, 'name': 'meta', 'dataTypeName': 'meta_data', 'fieldName': ':meta', 'position': 0, 'renderTypeName': 'meta_data', 'format': {}, 'flags': ['hidden']}, {'id': 360864928, 'name': 'YearStart', 'dataTypeName': 'number', 'description': 'Starting Year\\n', 'fieldName': 'yearstart', 'position': 1, 'renderTypeName': 'number', 'tableColumnId': 36246792, 'width': 208, 'cachedContents': {'largest': '2016', 'non_null': 519718, 'average': '2013.141884637438', 'null': 0, 'top': [{'item': '2016', 'count': 20}, {'item': '2015', 'count': 19}, {'item': '2014', 'count': 18}, {'item': '2013', 'count': 17}, {'item': '2012', 'count': 16}, {'item': '2011', 'count': 15}, {'item': '2010', 'count': 14}, {'item': '2009', 'count': 13}, {'item': '2008', 'count': 12}, {'item': '2007', 'count': 11}, {'item': '2001', 'count': 10}], 'smallest': '2001', 'sum': '1046266074'}, 'format': {'precisionStyle': 'standard', 'noCommas': 'true', 'align': 'right'}}, {'id': 360864929, 'name': 'YearEnd', 'dataTypeName': 'number', 'description': 'Ending Year\\n', 'fieldName': 'yearend', 'position': 2, 'renderTypeName': 'number', 'tableColumnId': 36246793, 'width': 184, 'cachedContents': {'largest': '2016', 'non_null': 519718, 'average': '2013.162753647170', 'null': 0, 'top': [{'item': '2016', 'count': 20}, {'item': '2015', 'count': 19}, {'item': '2014', 'count': 18}, {'item': '2013', 'count': 17}, {'item': '2012', 'count': 16}, {'item': '2011', 'count': 15}, {'item': '2010', 'count': 14}, {'item': '2008', 'count': 13}, {'item': '2007', 'count': 12}, {'item': '2001', 'count': 11}], 'smallest': '2001', 'sum': '1046276920'}, 'format': {'precisionStyle': 'standard', 'noCommas': 'true', 'align': 'right'}}, {'id': 360864930, 'name': 'LocationAbbr', 'dataTypeName': 'text', 'description': 'Location Abbreviation\\n', 'fieldName': 'locationabbr', 'position': 3, 'renderTypeName': 'text', 'tableColumnId': 36246794, 'width': 244, 'cachedContents': {'largest': 'WY', 'non_null': 519718, 'null': 0, 'top': [{'item': 'GU', 'count': 20}, {'item': 'PR', 'count': 19}, {'item': 'VI', 'count': 18}, {'item': 'US', 'count': 17}, {'item': 'NH', 'count': 16}, {'item': 'NY', 'count': 15}, {'item': 'RI', 'count': 14}, {'item': 'SC', 'count': 13}, {'item': 'SD', 'count': 12}, {'item': 'VT', 'count': 11}, {'item': 'ME', 'count': 10}, {'item': 'DC', 'count': 9}, {'item': 'FL', 'count': 8}, {'item': 'HI', 'count': 7}, {'item': 'NM', 'count': 6}], 'smallest': 'AK'}, 'format': {'displayStyle': 'plain', 'align': 'left'}}, {'id': 360864931, 'name': 'LocationDesc', 'dataTypeName': 'text', 'description': 'Location Description\\n', 'fieldName': 'locationdesc', 'position': 4, 'renderTypeName': 'text', 'tableColumnId': 36246795, 'width': 244, 'cachedContents': {'largest': 'Wyoming', 'non_null': 519718, 'null': 0, 'top': [{'item': 'Guam', 'count': 20}, {'item': 'Puerto Rico', 'count': 19}, {'item': 'Virgin Islands', 'count': 18}, {'item': 'United States', 'count': 17}, {'item': 'New Hampshire', 'count': 16}, {'item': 'New York', 'count': 15}, {'item': 'Rhode Island', 'count': 14}, {'item': 'South Carolina', 'count': 13}, {'item': 'South Dakota', 'count': 12}, {'item': 'Vermont', 'count': 11}, {'item': 'Maine', 'count': 10}, {'item': 'District of Columbia', 'count': 9}, {'item': 'Florida', 'count': 8}, {'item': 'Hawaii', 'count': 7}, {'item': 'New Mexico', 'count': 6}], 'smallest': 'Alabama'}, 'format': {'displayStyle': 'plain', 'align': 'left'}}, {'id': 360864932, 'name': 'DataSource', 'dataTypeName': 'text', 'description': 'Data Source Abbreviation\\n', 'fieldName': 'datasource', 'position': 5, 'renderTypeName': 'text', 'tableColumnId': 36246796, 'width': 220, 'cachedContents': {'largest': 'YRBSS', 'non_null': 519718, 'null': 0, 'top': [{'item': 'BRFSS', 'count': 20}, {'item': 'YRBSS', 'count': 19}, {'item': 'ACS 5-Year Estimates', 'count': 18}, {'item': 'USRDS', 'count': 17}, {'item': 'CDC School Health Profiles', 'count': 16}, {'item': 'State Inpatient Data', 'count': 15}, {'item': 'NVSS', 'count': 14}, {'item': 'SEDD; SID', 'count': 13}, {'item': 'STATE', 'count': 12}, {'item': 'CDC Breastfeeding Report Card', 'count': 11}, {'item': 'APIS', 'count': 10}, {'item': 'Legal Research', 'count': 9}, {'item': 'mPINC', 'count': 8}, {'item': 'HRSA, UDS', 'count': 7}, {'item': 'ASHW', 'count': 6}, {'item': 'ANRF', 'count': 5}, {'item': 'AEDS', 'count': 4}, {'item': 'InfoUSA; USDA', 'count': 3}, {'item': 'WFRS', 'count': 2}, {'item': 'National Immunization Survey', 'count': 1}], 'smallest': 'ACS 1-Year Estimates'}, 'format': {'displayStyle': 'plain', 'align': 'left'}}, {'id': 360864933, 'name': 'Topic', 'dataTypeName': 'text', 'description': 'Topic\\n', 'fieldName': 'topic', 'position': 6, 'renderTypeName': 'text', 'tableColumnId': 36246797, 'width': 160, 'cachedContents': {'largest': 'Tobacco', 'non_null': 519718, 'null': 0, 'top': [{'item': 'Alcohol', 'count': 20}, {'item': 'Arthritis', 'count': 19}, {'item': 'Asthma', 'count': 18}, {'item': 'Cancer', 'count': 17}, {'item': 'Diabetes', 'count': 16}, {'item': 'Chronic Obstructive Pulmonary Disease', 'count': 15}, {'item': 'Mental Health', 'count': 14}, {'item': 'Oral Health', 'count': 13}, {'item': 'Cardiovascular Disease', 'count': 12}, {'item': 'Immunization', 'count': 11}, {'item': 'Chronic Kidney Disease', 'count': 10}, {'item': 'Nutrition, Physical Activity, and Weight Status', 'count': 9}, {'item': 'Older Adults', 'count': 8}, {'item': 'Tobacco', 'count': 7}, {'item': 'Overarching Conditions', 'count': 6}, {'item': 'Reproductive Health', 'count': 5}, {'item': 'Disability', 'count': 4}], 'smallest': 'Alcohol'}, 'format': {'displayStyle': 'plain', 'align': 'left'}}, {'id': 360864934, 'name': 'Question', 'dataTypeName': 'text', 'description': 'Question full-length text\\n', 'fieldName': 'question', 'position': 7, 'renderTypeName': 'text', 'tableColumnId': 36246798, 'width': 196, 'cachedContents': {'largest': 'Work limitation due to arthritis among adults aged 18-64 years who have doctor-diagnosed arthritis', 'non_null': 519718, 'null': 0, 'top': [{'item': 'Mortality due to diabetes reported as any listed cause of death', 'count': 20}, {'item': 'Mortality with diabetic ketoacidosis reported as any listed cause of death', 'count': 19}, {'item': 'Premature mortality among adults aged 45-64 years', 'count': 18}, {'item': 'Chronic liver disease mortality', 'count': 17}, {'item': 'Asthma mortality rate', 'count': 16}, {'item': 'Mortality with end-stage renal disease', 'count': 15}, {'item': 'Mortality with chronic obstructive pulmonary disease as underlying cause among adults aged >= 45 years', 'count': 14}, {'item': 'Mortality with chronic obstructive pulmonary disease as underlying or contributing cause among adults aged >= 45 years', 'count': 13}, {'item': 'Mortality from total cardiovascular diseases', 'count': 12}, {'item': 'Mortality from diseases of the heart', 'count': 11}, {'item': 'Mortality from coronary heart disease', 'count': 10}, {'item': 'Mortality from heart failure', 'count': 9}, {'item': 'Mortality from cerebrovascular disease (stroke)', 'count': 8}, {'item': 'Emergency department visit rate for asthma', 'count': 7}, {'item': 'Disability among adults aged >= 65 years', 'count': 6}, {'item': 'Poverty', 'count': 5}, {'item': 'Prevalence of 2 or more chronic conditions among Medicare-enrolled persons aged >= 65 years', 'count': 4}, {'item': 'Emergency department visit rate for chronic obstructive pulmonary disease as first-listed diagnosis', 'count': 3}, {'item': 'Emergency department visit rate for chronic obstructive pulmonary disease as any diagnosis', 'count': 2}, {'item': 'Hospitalizations for asthma', 'count': 1}], 'smallest': 'Activity limitation due to arthritis among adults aged >= 18 years who have doctor-diagnosed arthritis'}, 'format': {'displayStyle': 'plain', 'align': 'left'}}, {'id': 360864935, 'name': 'Response', 'dataTypeName': 'text', 'description': 'Response\\n', 'fieldName': 'response', 'position': 8, 'renderTypeName': 'text', 'tableColumnId': 36246799, 'width': 196, 'cachedContents': {'largest': ' ', 'non_null': 79188, 'null': 440530, 'top': [{'item': ' ', 'count': 20}], 'smallest': ' '}, 'format': {'displayStyle': 'plain', 'align': 'left'}}, {'id': 360864936, 'name': 'DataValueUnit', 'dataTypeName': 'text', 'description': 'The unit, such as $, %, years, etc.\\n', 'fieldName': 'datavalueunit', 'position': 9, 'renderTypeName': 'text', 'tableColumnId': 36246800, 'width': 256, 'cachedContents': {'largest': 'Years', 'non_null': 476046, 'null': 43672, 'top': [{'item': '%', 'count': 20}, {'item': 'Number', 'count': 19}, {'item': 'cases per 1,000,000', 'count': 18}, {'item': 'cases per 10,000', 'count': 17}, {'item': ' ', 'count': 16}, {'item': '$', 'count': 15}, {'item': 'Number ', 'count': 14}, {'item': 'cases per 100,000', 'count': 13}, {'item': 'gallons', 'count': 12}, {'item': 'pack sales per capita', 'count': 11}, {'item': 'per 100,000 residents', 'count': 10}, {'item': 'Years', 'count': 9}, {'item': 'per 100,000', 'count': 8}, {'item': 'cases per 1,000', 'count': 7}], 'smallest': ' '}, 'format': {'displayStyle': 'plain', 'align': 'left'}}, {'id': 360864937, 'name': 'DataValueType', 'dataTypeName': 'text', 'description': 'The data type, such as prevalence or mean\\n', 'fieldName': 'datavaluetype', 'position': 10, 'renderTypeName': 'text', 'tableColumnId': 36246802, 'width': 256, 'cachedContents': {'largest': 'Yes/No', 'non_null': 519718, 'null': 0, 'top': [{'item': 'Crude Prevalence', 'count': 20}, {'item': 'Age-adjusted Prevalence', 'count': 19}, {'item': 'Mean', 'count': 18}, {'item': 'Age-adjusted Mean', 'count': 17}, {'item': 'Number', 'count': 16}, {'item': 'Median', 'count': 15}, {'item': 'Adjusted by age, sex, race and ethnicity', 'count': 14}, {'item': 'Percent', 'count': 13}, {'item': 'Age-adjusted Rate', 'count': 12}, {'item': 'Crude Rate', 'count': 11}, {'item': 'Yes/No', 'count': 10}, {'item': 'US Dollars', 'count': 9}, {'item': 'Commercial host (dram shop) liability status for alcohol service', 'count': 8}, {'item': 'Local control of the regulation of alcohol outlet density', 'count': 7}, {'item': 'Per capita alcohol consumption', 'count': 6}, {'item': 'Prevalence', 'count': 5}, {'item': 'Average Annual Number', 'count': 4}, {'item': 'Average Annual Age-adjusted Rate', 'count': 3}, {'item': 'Average Annual Crude Rate', 'count': 2}], 'smallest': 'Adjusted by age, sex, race and ethnicity'}, 'format': {'displayStyle': 'plain', 'align': 'left'}}, {'id': 360864938, 'name': 'DataValue', 'dataTypeName': 'text', 'description': 'Data Value, such as 14.7 or Category 1\\n', 'fieldName': 'datavalue', 'position': 11, 'renderTypeName': 'text', 'tableColumnId': 36246803, 'width': 208, 'cachedContents': {'largest': 'Yes', 'non_null': 374564, 'null': 145154, 'top': [{'item': ' ', 'count': 20}, {'item': '83.2', 'count': 19}, {'item': '87.8', 'count': 18}, {'item': '86.8', 'count': 17}, {'item': '84.5', 'count': 16}, {'item': 'Yes', 'count': 15}, {'item': 'No', 'count': 14}, {'item': '3.2', 'count': 13}, {'item': '3.8', 'count': 12}, {'item': '4.4', 'count': 11}, {'item': '3.6', 'count': 10}, {'item': '2.9', 'count': 9}, {'item': '3.5', 'count': 8}, {'item': '4.3', 'count': 7}, {'item': '3', 'count': 6}, {'item': '4.9', 'count': 5}, {'item': '4.1', 'count': 4}, {'item': '4', 'count': 3}, {'item': '3.1', 'count': 2}, {'item': '3.7', 'count': 1}], 'smallest': ' '}, 'format': {'displayStyle': 'plain', 'align': 'left'}}, {'id': 360864939, 'name': 'DataValueAlt', 'dataTypeName': 'number', 'description': 'Equal to Data Value, but formatting is numeric\\n', 'fieldName': 'datavaluealt', 'position': 12, 'renderTypeName': 'number', 'tableColumnId': 36246804, 'width': 244, 'cachedContents': {'largest': '2600878', 'non_null': 350335, 'average': '891.7742131673969', 'null': 169383, 'top': [{'item': '83.2', 'count': 20}, {'item': '84.5', 'count': 19}, {'item': '87.8', 'count': 18}, {'item': '3.2', 'count': 17}, {'item': '3.8', 'count': 16}, {'item': '3.6', 'count': 15}, {'item': '3.5', 'count': 14}, {'item': '4.3', 'count': 13}, {'item': '3', 'count': 12}, {'item': '4.9', 'count': 11}, {'item': '4.1', 'count': 10}, {'item': '4', 'count': 9}, {'item': '3.1', 'count': 8}, {'item': '4.4', 'count': 7}, {'item': '3.7', 'count': 6}, {'item': '3.3', 'count': 5}, {'item': '3.9', 'count': 4}, {'item': '2.8', 'count': 3}, {'item': '4.2', 'count': 2}, {'item': '2.9', 'count': 1}], 'smallest': '0', 'sum': '312419718.97'}, 'format': {'precisionStyle': 'standard', 'noCommas': 'false', 'align': 'right'}}, {'id': 360864940, 'name': 'DataValueFootnoteSymbol', 'dataTypeName': 'text', 'description': 'Footnote Symbol\\n', 'fieldName': 'datavaluefootnotesymbol', 'position': 13, 'renderTypeName': 'text', 'tableColumnId': 36246805, 'width': 376, 'cachedContents': {'largest': 'â€\\xa0â€\\xa0â€\\xa0', 'non_null': 227318, 'null': 292400, 'top': [{'item': '*', 'count': 20}, {'item': '****', 'count': 19}, {'item': '-', 'count': 18}, {'item': '##', 'count': 17}, {'item': '***', 'count': 16}, {'item': ' ', 'count': 15}, {'item': '~', 'count': 14}, {'item': '^^', 'count': 13}, {'item': 'Â§,â€¡', 'count': 12}, {'item': 'Â§', 'count': 11}, {'item': '^^^', 'count': 10}, {'item': 'â€\\xa0â€\\xa0â€\\xa0', 'count': 9}, {'item': 'Â§,â€¡,^', 'count': 8}, {'item': '#', 'count': 7}, {'item': '*, #', 'count': 6}, {'item': 'Â§Â§', 'count': 5}, {'item': '~~~', 'count': 4}, {'item': '^^^^', 'count': 3}, {'item': '**', 'count': 2}], 'smallest': ' '}, 'format': {'displayStyle': 'plain', 'align': 'left'}}, {'id': 360864941, 'name': 'DatavalueFootnote', 'dataTypeName': 'text', 'description': 'Footnote Text\\n', 'fieldName': 'datavaluefootnote', 'position': 14, 'renderTypeName': 'text', 'tableColumnId': 36246806, 'width': 304, 'cachedContents': {'largest': 'US Median based on the number of participating states and/or excluding states with sample size below 50 or relative standard error above 30%', 'non_null': 227152, 'null': 292566, 'top': [{'item': '50 States + DC: US Median', 'count': 20}, {'item': 'Sample size of denominator and/or age group for age-standardization is less than 50 or relative standard error is more than 30%', 'count': 19}, {'item': 'No data available', 'count': 18}, {'item': 'Estimate is 0.0% because no cases were reported with this condition', 'count': 17}, {'item': 'US Median based on the number of participating states and/or excluding states with sample size below 50 or relative standard error above 30%', 'count': 16}, {'item': ' ', 'count': 15}, {'item': 'Data not shown because of too few respondents or cases', 'count': 14}, {'item': 'State directly controlled the sale of (beer/wine/distilled spirits) at the retail and/or wholesale levels. State prices for (beer/wine/distilled spirits) combined both markups and taxes, so tax rates for this beverage type could not be determined.', 'count': 13}, {'item': 'Population served by CWS exceeded the US Census state population estimate; number of people was reduced by the ratio of the population estimate to the CWS population estimate.  Complete data were not available from WFRS; state provided additional information.', 'count': 12}, {'item': 'Population served by CWS exceeded the US Census state population estimate; number of people was reduced by the ratio of the population estimate to the CWS population estimate', 'count': 11}, {'item': 'DC was not rated for this measure because the measure addresses state versus local authority and does not apply to the District of Columbia', 'count': 10}, {'item': 'A confidence interval for this location is not available because a census was used instead of a sample for their surveys', 'count': 9}, {'item': 'Population served by CWS exceeded the US Census state population estimate; number of people was reduced by the ratio of the population estimate to the CWS population estimate.  Complete data were not available from WFRS; state provided additional information.  California is developing new methodology to describe the fluoridated status of water systems that draw water from multiple sources (e.g., ground water, surface water). This report does not reflect Californiaâ€™s new methodology.', 'count': 8}, {'item': 'NSCH Data provided by Data Resource Center for Child and Adolescent Health.  http://www.childhealthdata.org', 'count': 7}, {'item': '50 states + DC:  Median Percent; NSCH Data provided by Data Resource Center for Child and Adolescent Health.  http://www.childhealthdata.org', 'count': 6}, {'item': 'Per capita alcohol consumption was calculated using (1) alcohol beverage sales data, either collected directly from states or provided by beverage industry sources (numerator); and (2) population data from the U.S. Census Bureau (denominator).', 'count': 5}, {'item': 'Data are not available because cancer registry did not meet the data quality criteria for all the years for publication in United States Cancer statistics (USCS)', 'count': 4}, {'item': 'Data are from cancer registries that meet the data quality criteria for all invasive cancer sites combined, for all years covering approximately 99% of the U.S. population. See registry-specific data quality information at http://www.cdc.gov/cancer/npcr/uscs/data/00_data_quality.htm', 'count': 3}, {'item': 'US estimate/number is based on fewer than 50 states and the District of Columbia', 'count': 2}], 'smallest': ' '}, 'format': {'displayStyle': 'plain', 'align': 'left'}}, {'id': 360864942, 'name': 'LowConfidenceLimit', 'dataTypeName': 'number', 'description': 'Low Confidence Limit\\n', 'fieldName': 'lowconfidencelimit', 'position': 15, 'renderTypeName': 'number', 'tableColumnId': 36246807, 'width': 316, 'cachedContents': {'largest': '1330.66', 'non_null': 311062, 'average': '46.75940127691586', 'null': 208656, 'top': [{'item': '10.7', 'count': 20}, {'item': '13.9', 'count': 19}, {'item': '11.4', 'count': 18}, {'item': '11', 'count': 17}, {'item': '10.3', 'count': 16}, {'item': '12.4', 'count': 15}, {'item': '3.7', 'count': 14}, {'item': '3.4', 'count': 13}, {'item': '3.3', 'count': 12}, {'item': '2.7', 'count': 11}, {'item': '3.2', 'count': 10}, {'item': '4.1', 'count': 9}, {'item': '2.8', 'count': 8}, {'item': '4.7', 'count': 7}, {'item': '3.8', 'count': 6}, {'item': '3.6', 'count': 5}, {'item': '3.9', 'count': 4}, {'item': '2.9', 'count': 3}, {'item': '3.5', 'count': 2}, {'item': '3.1', 'count': 1}], 'smallest': '0.2', 'sum': '14545072.88'}, 'format': {'precisionStyle': 'standard', 'noCommas': 'false', 'align': 'right'}}, {'id': 360864943, 'name': 'HighConfidenceLimit', 'dataTypeName': 'number', 'description': 'High Confidence Limit\\n', 'fieldName': 'highconfidencelimit', 'position': 16, 'renderTypeName': 'number', 'tableColumnId': 36246808, 'width': 328, 'cachedContents': {'largest': '2088.00', 'non_null': 311062, 'average': '58.99128656023558', 'null': 208656, 'top': [{'item': '12.3', 'count': 20}, {'item': '11.1', 'count': 19}, {'item': '3.5', 'count': 18}, {'item': '4.4', 'count': 17}, {'item': '5', 'count': 16}, {'item': '4', 'count': 15}, {'item': '3.7', 'count': 14}, {'item': '3.8', 'count': 13}, {'item': '4.3', 'count': 12}, {'item': '4.7', 'count': 11}, {'item': '3.9', 'count': 10}, {'item': '3.2', 'count': 9}, {'item': '4.2', 'count': 8}, {'item': '4.6', 'count': 7}, {'item': '3.3', 'count': 6}, {'item': '5.2', 'count': 5}, {'item': '4.5', 'count': 4}, {'item': '4.1', 'count': 3}, {'item': '3', 'count': 2}, {'item': '3.1', 'count': 1}], 'smallest': '0.42', 'sum': '18349947.58'}, 'format': {'precisionStyle': 'standard', 'noCommas': 'false', 'align': 'right'}}, {'id': 360864944, 'name': 'StratificationCategory1', 'dataTypeName': 'text', 'description': 'The category of the stratification, such as Gender, Overall, or Race/Ethnicity\\n', 'fieldName': 'stratificationcategory1', 'position': 17, 'renderTypeName': 'text', 'tableColumnId': 36246809, 'width': 376, 'cachedContents': {'largest': 'Race/Ethnicity', 'non_null': 519718, 'null': 0, 'top': [{'item': 'Overall', 'count': 20}, {'item': 'Gender', 'count': 19}, {'item': 'Race/Ethnicity', 'count': 18}], 'smallest': 'Gender'}, 'format': {'displayStyle': 'plain', 'align': 'left'}}, {'id': 360864945, 'name': 'Stratification1', 'dataTypeName': 'text', 'description': 'The stratification within the category, such as Male or Female, White/non-Hispanic, Hispanic, Black/non-Hispanic, American Indian or Alaska Native, Asian or Pacific Islander, Multi-racial/non-Hispanic, Other/non-Hispanic, or Overall\\n', 'fieldName': 'stratification1', 'position': 18, 'renderTypeName': 'text', 'tableColumnId': 36246810, 'width': 280, 'cachedContents': {'largest': 'White, non-Hispanic', 'non_null': 519718, 'null': 0, 'top': [{'item': 'Overall', 'count': 20}, {'item': 'Male', 'count': 19}, {'item': 'Female', 'count': 18}, {'item': 'White, non-Hispanic', 'count': 17}, {'item': 'Black, non-Hispanic', 'count': 16}, {'item': 'Hispanic', 'count': 15}, {'item': 'Other, non-Hispanic', 'count': 14}, {'item': 'Multiracial, non-Hispanic', 'count': 13}, {'item': 'American Indian or Alaska Native', 'count': 12}, {'item': 'Asian or Pacific Islander', 'count': 11}, {'item': 'Asian, non-Hispanic', 'count': 10}], 'smallest': 'American Indian or Alaska Native'}, 'format': {'displayStyle': 'plain', 'align': 'left'}}, {'id': 360864946, 'name': 'StratificationCategory2', 'dataTypeName': 'text', 'fieldName': 'stratificationcategory2', 'position': 19, 'renderTypeName': 'text', 'tableColumnId': 36246811, 'width': 376, 'cachedContents': {'largest': ' ', 'non_null': 79188, 'null': 440530, 'top': [{'item': ' ', 'count': 20}], 'smallest': ' '}, 'format': {}}, {'id': 360864947, 'name': 'Stratification2', 'dataTypeName': 'text', 'fieldName': 'stratification2', 'position': 20, 'renderTypeName': 'text', 'tableColumnId': 36246812, 'width': 280, 'cachedContents': {'largest': ' ', 'non_null': 79188, 'null': 440530, 'top': [{'item': ' ', 'count': 20}], 'smallest': ' '}, 'format': {}}, {'id': 360864948, 'name': 'StratificationCategory3', 'dataTypeName': 'text', 'fieldName': 'stratificationcategory3', 'position': 21, 'renderTypeName': 'text', 'tableColumnId': 36246813, 'width': 376, 'cachedContents': {'largest': ' ', 'non_null': 79188, 'null': 440530, 'top': [{'item': ' ', 'count': 20}], 'smallest': ' '}, 'format': {}}, {'id': 360864949, 'name': 'Stratification3', 'dataTypeName': 'text', 'fieldName': 'stratification3', 'position': 22, 'renderTypeName': 'text', 'tableColumnId': 36246814, 'width': 280, 'cachedContents': {'largest': ' ', 'non_null': 79188, 'null': 440530, 'top': [{'item': ' ', 'count': 20}], 'smallest': ' '}, 'format': {}}, {'id': 360864950, 'name': 'GeoLocation', 'dataTypeName': 'location', 'description': 'Location code to be used for Geocoding\\n', 'fieldName': 'geolocation', 'position': 23, 'renderTypeName': 'location', 'tableColumnId': 36246815, 'width': 232, 'cachedContents': {'largest': {'latitude': '34.52088095200048', 'longitude': '-106.24058098499967'}, 'non_null': 516115, 'null': 3603, 'top': [{'item': {'latitude': '13.444304', 'longitude': '144.793731'}, 'count': 20}, {'item': {'latitude': '18.220833', 'longitude': '-66.590149'}, 'count': 19}, {'item': {'latitude': '18.335765', 'longitude': '-64.896335'}, 'count': 18}, {'item': {'latitude': '31.827240407000488', 'longitude': '-99.42677020599967'}, 'count': 17}, {'item': {'latitude': '39.360700171000474', 'longitude': '-111.58713063499971'}, 'count': 16}, {'item': {'latitude': '43.62538123900049', 'longitude': '-72.51764079099962'}, 'count': 15}, {'item': {'latitude': '37.54268067400045', 'longitude': '-78.45789046299967'}, 'count': 14}, {'item': {'latitude': '47.52227862900048', 'longitude': '-120.47001078999972'}, 'count': 13}, {'item': {'latitude': '38.66551020200046', 'longitude': '-80.71264013499967'}, 'count': 12}, {'item': {'latitude': '44.39319117400049', 'longitude': '-89.81637074199966'}, 'count': 11}, {'item': {'latitude': '43.23554134300048', 'longitude': '-108.10983035299967'}, 'count': 10}, {'item': {'latitude': '38.907192', 'longitude': '-77.036871'}, 'count': 9}, {'item': {'latitude': '43.65595011300047', 'longitude': '-71.50036091999965'}, 'count': 8}, {'item': {'latitude': '45.254228894000505', 'longitude': '-68.98503133599962'}, 'count': 7}, {'item': {'latitude': '42.27687047000046', 'longitude': '-72.08269067499964'}, 'count': 6}, {'item': {'latitude': '37.63864012300047', 'longitude': '-120.99999953799971'}, 'count': 5}, {'item': {'latitude': '38.843840757000464', 'longitude': '-106.13361092099967'}, 'count': 4}, {'item': {'latitude': '42.46940091300047', 'longitude': '-93.81649055599968'}, 'count': 3}, {'item': {'latitude': '39.766910452000445', 'longitude': '-86.14996019399968'}, 'count': 2}, {'item': {'latitude': '46.35564873600049', 'longitude': '-94.79420050299967'}, 'count': 1}], 'smallest': {'latitude': '32.84057112200048', 'longitude': '-86.63186076199969'}}, 'format': {'view': 'address_coords', 'align': 'left'}, 'subColumnTypes': ['human_address', 'latitude', 'longitude', 'machine_address', 'needs_recoding']}, {'id': 360864951, 'name': 'ResponseID', 'dataTypeName': 'text', 'description': 'Identifier for the Response\\n', 'fieldName': 'responseid', 'position': 24, 'renderTypeName': 'text', 'tableColumnId': 36246818, 'width': 220, 'cachedContents': {'largest': ' ', 'non_null': 79176, 'null': 440542, 'top': [{'item': ' ', 'count': 20}], 'smallest': ' '}, 'format': {'displayStyle': 'plain', 'align': 'left'}}, {'id': 360864952, 'name': 'LocationID', 'dataTypeName': 'text', 'description': 'Location Identifier\\n', 'fieldName': 'locationid', 'position': 25, 'renderTypeName': 'text', 'tableColumnId': 36246819, 'width': 220, 'cachedContents': {'largest': '78', 'non_null': 519718, 'null': 0, 'top': [{'item': '66', 'count': 20}, {'item': '72', 'count': 19}, {'item': '78', 'count': 18}, {'item': '59', 'count': 17}, {'item': '33', 'count': 16}, {'item': '36', 'count': 15}, {'item': '44', 'count': 14}, {'item': '45', 'count': 13}, {'item': '46', 'count': 12}, {'item': '50', 'count': 11}, {'item': '23', 'count': 10}, {'item': '11', 'count': 9}, {'item': '12', 'count': 8}, {'item': '15', 'count': 7}, {'item': '35', 'count': 6}], 'smallest': '01'}, 'format': {'displayStyle': 'plain', 'align': 'left'}}, {'id': 360864953, 'name': 'TopicID', 'dataTypeName': 'text', 'fieldName': 'topicid', 'position': 26, 'renderTypeName': 'text', 'tableColumnId': 36246816, 'width': 184, 'cachedContents': {'largest': 'TOB', 'non_null': 519718, 'null': 0, 'top': [{'item': 'ALC', 'count': 20}, {'item': 'ART', 'count': 19}, {'item': 'AST', 'count': 18}, {'item': 'CAN', 'count': 17}, {'item': 'DIA', 'count': 16}, {'item': 'COPD', 'count': 15}, {'item': 'MTH', 'count': 14}, {'item': 'ORH', 'count': 13}, {'item': 'CVD', 'count': 12}, {'item': 'IMM', 'count': 11}, {'item': 'CKD', 'count': 10}, {'item': 'NPAW', 'count': 9}, {'item': 'OLD', 'count': 8}, {'item': 'TOB', 'count': 7}, {'item': 'OVC', 'count': 6}, {'item': 'RPH', 'count': 5}, {'item': 'DIS', 'count': 4}], 'smallest': 'ALC'}, 'format': {}}, {'id': 360864954, 'name': 'QuestionID', 'dataTypeName': 'text', 'description': 'Question Identifier\\n', 'fieldName': 'questionid', 'position': 27, 'renderTypeName': 'text', 'tableColumnId': 36246817, 'width': 220, 'cachedContents': {'largest': 'TOB9_0', 'non_null': 519718, 'null': 0, 'top': [{'item': 'DIA1_1', 'count': 20}, {'item': 'DIA1_2', 'count': 19}, {'item': 'OVC5_0', 'count': 18}, {'item': 'ALC6_0', 'count': 17}, {'item': 'AST4_1', 'count': 16}, {'item': 'CKD1_0', 'count': 15}, {'item': 'COPD1_1', 'count': 14}, {'item': 'COPD1_2', 'count': 13}, {'item': 'CVD1_1', 'count': 12}, {'item': 'CVD1_2', 'count': 11}, {'item': 'CVD1_3', 'count': 10}, {'item': 'CVD1_4', 'count': 9}, {'item': 'CVD1_5', 'count': 8}, {'item': 'AST2_1', 'count': 7}, {'item': 'DIS1_0', 'count': 6}, {'item': 'OVC3_1', 'count': 5}, {'item': 'OLD4_0', 'count': 4}, {'item': 'COPD6_1', 'count': 3}, {'item': 'COPD6_2', 'count': 2}, {'item': 'AST3_1', 'count': 1}], 'smallest': 'ALC1_1'}, 'format': {'displayStyle': 'plain', 'align': 'left'}}, {'id': 360864955, 'name': 'DataValueTypeID', 'dataTypeName': 'text', 'description': 'Identifier for the Data Value Type\\n', 'fieldName': 'datavaluetypeid', 'position': 28, 'renderTypeName': 'text', 'tableColumnId': 36246801, 'width': 280, 'cachedContents': {'largest': 'YESNO', 'non_null': 519718, 'null': 0, 'top': [{'item': 'CRDPREV', 'count': 20}, {'item': 'AGEADJPREV', 'count': 19}, {'item': 'MEAN', 'count': 18}, {'item': 'AGEADJMEAN', 'count': 17}, {'item': 'NMBR', 'count': 16}, {'item': 'MEDIAN', 'count': 15}, {'item': 'AGESEXRACEADJRATE', 'count': 14}, {'item': 'PRCT', 'count': 13}, {'item': 'AGEADJRATE', 'count': 12}, {'item': 'CRDRATE', 'count': 11}, {'item': 'YESNO', 'count': 10}, {'item': 'USD', 'count': 9}, {'item': 'COMMHSTLIAB', 'count': 8}, {'item': 'LCLCNTRLALC', 'count': 7}, {'item': 'PERCAPALC', 'count': 6}, {'item': 'PREV', 'count': 5}, {'item': 'AVGANNNMBR', 'count': 4}, {'item': 'AVGANNAGEADJRATE', 'count': 3}, {'item': 'AVGANNCRDRATE', 'count': 2}], 'smallest': 'AGEADJMEAN'}, 'format': {'displayStyle': 'plain', 'align': 'left'}}, {'id': 360864956, 'name': 'StratificationCategoryID1', 'dataTypeName': 'text', 'description': 'Identifier for stratification category 1\\n', 'fieldName': 'stratificationcategoryid1', 'position': 29, 'renderTypeName': 'text', 'tableColumnId': 36246820, 'width': 400, 'cachedContents': {'largest': 'RACE', 'non_null': 519718, 'null': 0, 'top': [{'item': 'OVERALL', 'count': 20}, {'item': 'GENDER', 'count': 19}, {'item': 'RACE', 'count': 18}], 'smallest': 'GENDER'}, 'format': {'displayStyle': 'plain', 'align': 'left'}}, {'id': 360864957, 'name': 'StratificationID1', 'dataTypeName': 'text', 'description': 'Identifier for stratification 1\\n', 'fieldName': 'stratificationid1', 'position': 30, 'renderTypeName': 'text', 'tableColumnId': 36246821, 'width': 304, 'cachedContents': {'largest': 'WHT', 'non_null': 519718, 'null': 0, 'top': [{'item': 'OVR', 'count': 20}, {'item': 'GENM', 'count': 19}, {'item': 'GENF', 'count': 18}, {'item': 'WHT', 'count': 17}, {'item': 'BLK', 'count': 16}, {'item': 'HIS', 'count': 15}, {'item': 'OTH', 'count': 14}, {'item': 'MRC', 'count': 13}, {'item': 'AIAN', 'count': 12}, {'item': 'API', 'count': 11}, {'item': 'ASN', 'count': 10}], 'smallest': 'AIAN'}, 'format': {'displayStyle': 'plain', 'align': 'left'}}, {'id': 360864958, 'name': 'StratificationCategoryID2', 'dataTypeName': 'text', 'fieldName': 'stratificationcategoryid2', 'position': 31, 'renderTypeName': 'text', 'tableColumnId': 36246822, 'width': 400, 'cachedContents': {'largest': ' ', 'non_null': 79189, 'null': 440529, 'top': [{'item': ' ', 'count': 20}], 'smallest': ' '}, 'format': {}}, {'id': 360864959, 'name': 'StratificationID2', 'dataTypeName': 'text', 'fieldName': 'stratificationid2', 'position': 32, 'renderTypeName': 'text', 'tableColumnId': 36246823, 'width': 304, 'cachedContents': {'largest': ' ', 'non_null': 79189, 'null': 440529, 'top': [{'item': ' ', 'count': 20}], 'smallest': ' '}, 'format': {}}, {'id': 360864960, 'name': 'StratificationCategoryID3', 'dataTypeName': 'text', 'fieldName': 'stratificationcategoryid3', 'position': 33, 'renderTypeName': 'text', 'tableColumnId': 36246824, 'width': 400, 'cachedContents': {'largest': ' ', 'non_null': 79188, 'null': 440530, 'top': [{'item': ' ', 'count': 20}], 'smallest': ' '}, 'format': {}}, {'id': 360864961, 'name': 'StratificationID3', 'dataTypeName': 'text', 'fieldName': 'stratificationid3', 'position': 34, 'renderTypeName': 'text', 'tableColumnId': 36246825, 'width': 304, 'cachedContents': {'largest': ' ', 'non_null': 79188, 'null': 440530, 'top': [{'item': ' ', 'count': 20}], 'smallest': ' '}, 'format': {}}], 'grants': [{'inherited': False, 'type': 'viewer', 'flags': ['public']}], 'license': {'name': 'Public Domain'}, 'metadata': {'rdfSubject': '0', 'rdfClass': '', 'custom_fields': {'Common Core': {'Contact Email': 'PublicInquiriesDPH@cdc.gov', 'Described By': 'https://chronicdata.cdc.gov/Chronic-Disease-Indicators/U-S-Chronic-Disease-Indicators-CDI-/g4ie-h725', 'References': 'https://www.cdc.gov/mmwr/pdf/rr/rr6401.pdf', 'Contact Name': 'DPH Public Inquiries', 'Program Code': '009:020', 'Publisher': 'Centers for Disease Control and Prevention', 'Bureau Code': '009:20', 'Public Access Level': 'Public Domain'}}, 'rowIdentifier': '0', 'rowLabel': 'Row', 'availableDisplayTypes': ['table', 'fatrow', 'page'], 'renderTypeConfig': {'visible': {'table': True}}}, 'owner': {'id': 'isr2-3jff', 'displayName': 'DPH Public Inquiries', 'screenName': 'DPH Public Inquiries', 'type': 'interactive'}, 'query': {}, 'rights': ['read'], 'tableAuthor': {'id': 'isr2-3jff', 'displayName': 'DPH Public Inquiries', 'screenName': 'DPH Public Inquiries', 'type': 'interactive'}, 'tags': ['cdi', 'chronic disease indicators', 'alcohol', 'arthritis', 'asthma', 'cancer', 'cardiovascular disease', 'chronic kidney disease', 'chronic obstructive pulmonary disease', 'diabetes', 'disability', 'immunization', 'mental health', 'nutrition physical activity and weight status', 'older adults', 'oral health', 'overarching conditions', 'reproductive health', 'tobacco', 'public health'], 'flags': ['default', 'restorable', 'restorePossibleForType']}}\n"
     ]
    }
   ],
   "source": [
    "# Your code here (add additional cells as needed)\n",
    "# Check if 'meta' exists and print its contents\n",
    "if 'meta' in data:\n",
    "    print(\"Contents of 'meta':\", data['meta'])\n",
    "else:\n",
    "    print(\"No 'meta' key found in data.\")"
   ]
  },
  {
   "cell_type": "markdown",
   "metadata": {},
   "source": [
    "The following code checks that you have the correct column names:"
   ]
  },
  {
   "cell_type": "code",
   "execution_count": 12,
   "metadata": {},
   "outputs": [
    {
     "ename": "NameError",
     "evalue": "name 'column_names' is not defined",
     "output_type": "error",
     "traceback": [
      "\u001b[0;31m---------------------------------------------------------------------------\u001b[0m",
      "\u001b[0;31mNameError\u001b[0m                                 Traceback (most recent call last)",
      "\u001b[0;32m<ipython-input-12-a3dd5a1e5afe>\u001b[0m in \u001b[0;36m<module>\u001b[0;34m\u001b[0m\n\u001b[1;32m      2\u001b[0m \u001b[0;34m\u001b[0m\u001b[0m\n\u001b[1;32m      3\u001b[0m \u001b[0;31m# 42 total columns\u001b[0m\u001b[0;34m\u001b[0m\u001b[0;34m\u001b[0m\u001b[0;34m\u001b[0m\u001b[0m\n\u001b[0;32m----> 4\u001b[0;31m \u001b[0;32massert\u001b[0m \u001b[0mlen\u001b[0m\u001b[0;34m(\u001b[0m\u001b[0mcolumn_names\u001b[0m\u001b[0;34m)\u001b[0m \u001b[0;34m==\u001b[0m \u001b[0;36m42\u001b[0m\u001b[0;34m\u001b[0m\u001b[0;34m\u001b[0m\u001b[0m\n\u001b[0m\u001b[1;32m      5\u001b[0m \u001b[0;34m\u001b[0m\u001b[0m\n\u001b[1;32m      6\u001b[0m \u001b[0;31m# Each name should be a string, not a dict\u001b[0m\u001b[0;34m\u001b[0m\u001b[0;34m\u001b[0m\u001b[0;34m\u001b[0m\u001b[0m\n",
      "\u001b[0;31mNameError\u001b[0m: name 'column_names' is not defined"
     ]
    }
   ],
   "source": [
    "# Run this cell without changes\n",
    "\n",
    "# 42 total columns\n",
    "assert len(column_names) == 42\n",
    "\n",
    "# Each name should be a string, not a dict\n",
    "assert type(column_names[0]) == str and type(column_names[-1]) == str\n",
    "\n",
    "# Check that we have some specific strings\n",
    "assert \"DataValue\" in column_names\n",
    "assert \"LocationDesc\" in column_names\n",
    "assert \"Question\" in column_names\n",
    "assert \"StratificationCategoryID1\" in column_names\n",
    "assert \"DataValueTypeID\" in column_names"
   ]
  },
  {
   "cell_type": "markdown",
   "metadata": {},
   "source": [
    "## Filter Rows Based on Columns\n",
    "\n",
    "Recall that we only want to include records where:\n",
    "\n",
    "* The `'Question'` is `'Current asthma prevalence among adults aged >= 18 years'`\n",
    "* The `'StratificationCategoryID1'` is `'OVERALL'`\n",
    "* The `'DataValueTypeID'` is `'CRDPREV'`\n",
    "* The `'LocationDesc'` is not `'United States'`\n",
    "\n",
    "Combining knowledge of the data and metadata, filter out the rows of data that are not relevant.\n",
    "\n",
    "(You may find the `pandas` library useful here.)"
   ]
  },
  {
   "cell_type": "code",
   "execution_count": null,
   "metadata": {},
   "outputs": [],
   "source": [
    "# Your code here (add additional cells as needed)"
   ]
  },
  {
   "cell_type": "code",
   "execution_count": 15,
   "metadata": {},
   "outputs": [],
   "source": [
    "import pandas as pd\n",
    "import json\n",
    "\n",
    "# Load the data from the JSON file\n",
    "with open('disease_data.json') as f:\n",
    "    data = json.load(f)\n",
    "#Convert the 'data' part of the JSON into a DataFrame\n",
    "df = pd.DataFrame(data['data'])"
   ]
  },
  {
   "cell_type": "code",
   "execution_count": 16,
   "metadata": {},
   "outputs": [
    {
     "name": "stdout",
     "output_type": "stream",
     "text": [
      "Initial DataFrame:\n",
      "   0                                     1   2           3       4   \\\n",
      "0   1  FF49C41F-CE8D-46C4-9164-653B1227CF6F   1  1527194521  959778   \n",
      "1   2  F4468C3D-340A-4CD2-84A3-DF554DFF065E   2  1527194521  959778   \n",
      "2   3  65609156-A343-4869-B03F-2BA62E96AC19   3  1527194521  959778   \n",
      "3   4  0DB09B00-EFEB-4AC0-9467-A7CBD2B57BF3   4  1527194521  959778   \n",
      "4   5  D98DA5BA-6FD6-40F5-A9B1-ABD45E44967B   5  1527194521  959778   \n",
      "\n",
      "           5       6     7     8     9   ...  32   33      34       35  \\\n",
      "0  1527194521  959778  None  2016  2016  ...  59  ALC  ALC2_2  CRDPREV   \n",
      "1  1527194521  959778  None  2016  2016  ...  01  ALC  ALC2_2  CRDPREV   \n",
      "2  1527194521  959778  None  2016  2016  ...  02  ALC  ALC2_2  CRDPREV   \n",
      "3  1527194521  959778  None  2016  2016  ...  04  ALC  ALC2_2  CRDPREV   \n",
      "4  1527194521  959778  None  2016  2016  ...  05  ALC  ALC2_2  CRDPREV   \n",
      "\n",
      "        36   37    38    39    40    41  \n",
      "0  OVERALL  OVR  None  None  None  None  \n",
      "1  OVERALL  OVR  None  None  None  None  \n",
      "2  OVERALL  OVR  None  None  None  None  \n",
      "3  OVERALL  OVR  None  None  None  None  \n",
      "4  OVERALL  OVR  None  None  None  None  \n",
      "\n",
      "[5 rows x 42 columns]\n"
     ]
    }
   ],
   "source": [
    "# Display the first few rows of the DataFrame to understand its structure\n",
    "print(\"Initial DataFrame:\")\n",
    "print(df.head())"
   ]
  },
  {
   "cell_type": "code",
   "execution_count": 17,
   "metadata": {},
   "outputs": [
    {
     "ename": "KeyError",
     "evalue": "'Question'",
     "output_type": "error",
     "traceback": [
      "\u001b[0;31m---------------------------------------------------------------------------\u001b[0m",
      "\u001b[0;31mKeyError\u001b[0m                                  Traceback (most recent call last)",
      "\u001b[0;32m<ipython-input-17-e5df833632b9>\u001b[0m in \u001b[0;36m<module>\u001b[0;34m\u001b[0m\n\u001b[1;32m      1\u001b[0m \u001b[0;31m# Apply the filtering conditions\u001b[0m\u001b[0;34m\u001b[0m\u001b[0;34m\u001b[0m\u001b[0;34m\u001b[0m\u001b[0m\n\u001b[1;32m      2\u001b[0m filtered_df = df[\n\u001b[0;32m----> 3\u001b[0;31m     \u001b[0;34m(\u001b[0m\u001b[0mdf\u001b[0m\u001b[0;34m[\u001b[0m\u001b[0;34m'Question'\u001b[0m\u001b[0;34m]\u001b[0m \u001b[0;34m==\u001b[0m \u001b[0;34m'Current asthma prevalence among adults aged >= 18 years'\u001b[0m\u001b[0;34m)\u001b[0m \u001b[0;34m&\u001b[0m\u001b[0;34m\u001b[0m\u001b[0;34m\u001b[0m\u001b[0m\n\u001b[0m\u001b[1;32m      4\u001b[0m     \u001b[0;34m(\u001b[0m\u001b[0mdf\u001b[0m\u001b[0;34m[\u001b[0m\u001b[0;34m'StratificationCategoryID1'\u001b[0m\u001b[0;34m]\u001b[0m \u001b[0;34m==\u001b[0m \u001b[0;34m'OVERALL'\u001b[0m\u001b[0;34m)\u001b[0m \u001b[0;34m&\u001b[0m\u001b[0;34m\u001b[0m\u001b[0;34m\u001b[0m\u001b[0m\n\u001b[1;32m      5\u001b[0m     \u001b[0;34m(\u001b[0m\u001b[0mdf\u001b[0m\u001b[0;34m[\u001b[0m\u001b[0;34m'DataValueTypeID'\u001b[0m\u001b[0;34m]\u001b[0m \u001b[0;34m==\u001b[0m \u001b[0;34m'CRDPREV'\u001b[0m\u001b[0;34m)\u001b[0m \u001b[0;34m&\u001b[0m\u001b[0;34m\u001b[0m\u001b[0;34m\u001b[0m\u001b[0m\n",
      "\u001b[0;32m/opt/anaconda3/envs/learn-env/lib/python3.8/site-packages/pandas/core/frame.py\u001b[0m in \u001b[0;36m__getitem__\u001b[0;34m(self, key)\u001b[0m\n\u001b[1;32m   2900\u001b[0m             \u001b[0;32mif\u001b[0m \u001b[0mself\u001b[0m\u001b[0;34m.\u001b[0m\u001b[0mcolumns\u001b[0m\u001b[0;34m.\u001b[0m\u001b[0mnlevels\u001b[0m \u001b[0;34m>\u001b[0m \u001b[0;36m1\u001b[0m\u001b[0;34m:\u001b[0m\u001b[0;34m\u001b[0m\u001b[0;34m\u001b[0m\u001b[0m\n\u001b[1;32m   2901\u001b[0m                 \u001b[0;32mreturn\u001b[0m \u001b[0mself\u001b[0m\u001b[0;34m.\u001b[0m\u001b[0m_getitem_multilevel\u001b[0m\u001b[0;34m(\u001b[0m\u001b[0mkey\u001b[0m\u001b[0;34m)\u001b[0m\u001b[0;34m\u001b[0m\u001b[0;34m\u001b[0m\u001b[0m\n\u001b[0;32m-> 2902\u001b[0;31m             \u001b[0mindexer\u001b[0m \u001b[0;34m=\u001b[0m \u001b[0mself\u001b[0m\u001b[0;34m.\u001b[0m\u001b[0mcolumns\u001b[0m\u001b[0;34m.\u001b[0m\u001b[0mget_loc\u001b[0m\u001b[0;34m(\u001b[0m\u001b[0mkey\u001b[0m\u001b[0;34m)\u001b[0m\u001b[0;34m\u001b[0m\u001b[0;34m\u001b[0m\u001b[0m\n\u001b[0m\u001b[1;32m   2903\u001b[0m             \u001b[0;32mif\u001b[0m \u001b[0mis_integer\u001b[0m\u001b[0;34m(\u001b[0m\u001b[0mindexer\u001b[0m\u001b[0;34m)\u001b[0m\u001b[0;34m:\u001b[0m\u001b[0;34m\u001b[0m\u001b[0;34m\u001b[0m\u001b[0m\n\u001b[1;32m   2904\u001b[0m                 \u001b[0mindexer\u001b[0m \u001b[0;34m=\u001b[0m \u001b[0;34m[\u001b[0m\u001b[0mindexer\u001b[0m\u001b[0;34m]\u001b[0m\u001b[0;34m\u001b[0m\u001b[0;34m\u001b[0m\u001b[0m\n",
      "\u001b[0;32m/opt/anaconda3/envs/learn-env/lib/python3.8/site-packages/pandas/core/indexes/range.py\u001b[0m in \u001b[0;36mget_loc\u001b[0;34m(self, key, method, tolerance)\u001b[0m\n\u001b[1;32m    356\u001b[0m                 \u001b[0;32mexcept\u001b[0m \u001b[0mValueError\u001b[0m \u001b[0;32mas\u001b[0m \u001b[0merr\u001b[0m\u001b[0;34m:\u001b[0m\u001b[0;34m\u001b[0m\u001b[0;34m\u001b[0m\u001b[0m\n\u001b[1;32m    357\u001b[0m                     \u001b[0;32mraise\u001b[0m \u001b[0mKeyError\u001b[0m\u001b[0;34m(\u001b[0m\u001b[0mkey\u001b[0m\u001b[0;34m)\u001b[0m \u001b[0;32mfrom\u001b[0m \u001b[0merr\u001b[0m\u001b[0;34m\u001b[0m\u001b[0;34m\u001b[0m\u001b[0m\n\u001b[0;32m--> 358\u001b[0;31m             \u001b[0;32mraise\u001b[0m \u001b[0mKeyError\u001b[0m\u001b[0;34m(\u001b[0m\u001b[0mkey\u001b[0m\u001b[0;34m)\u001b[0m\u001b[0;34m\u001b[0m\u001b[0;34m\u001b[0m\u001b[0m\n\u001b[0m\u001b[1;32m    359\u001b[0m         \u001b[0;32mreturn\u001b[0m \u001b[0msuper\u001b[0m\u001b[0;34m(\u001b[0m\u001b[0;34m)\u001b[0m\u001b[0;34m.\u001b[0m\u001b[0mget_loc\u001b[0m\u001b[0;34m(\u001b[0m\u001b[0mkey\u001b[0m\u001b[0;34m,\u001b[0m \u001b[0mmethod\u001b[0m\u001b[0;34m=\u001b[0m\u001b[0mmethod\u001b[0m\u001b[0;34m,\u001b[0m \u001b[0mtolerance\u001b[0m\u001b[0;34m=\u001b[0m\u001b[0mtolerance\u001b[0m\u001b[0;34m)\u001b[0m\u001b[0;34m\u001b[0m\u001b[0;34m\u001b[0m\u001b[0m\n\u001b[1;32m    360\u001b[0m \u001b[0;34m\u001b[0m\u001b[0m\n",
      "\u001b[0;31mKeyError\u001b[0m: 'Question'"
     ]
    }
   ],
   "source": [
    "# Apply the filtering conditions\n",
    "filtered_df = df[\n",
    "    (df['Question'] == 'Current asthma prevalence among adults aged >= 18 years') &\n",
    "    (df['StratificationCategoryID1'] == 'OVERALL') &\n",
    "    (df['DataValueTypeID'] == 'CRDPREV') &\n",
    "    (df['LocationDesc'] != 'United States')\n",
    "]\n",
    "\n",
    "# Display the filtered DataFrame\n",
    "print(\"\\nFiltered DataFrame:\")\n",
    "print(filtered_df)"
   ]
  },
  {
   "cell_type": "code",
   "execution_count": null,
   "metadata": {},
   "outputs": [],
   "source": []
  },
  {
   "cell_type": "markdown",
   "metadata": {},
   "source": [
    "You should have 54 records after filtering.\n",
    "\n",
    "## Extract the Attributes Required for Plotting\n",
    "\n",
    "For each record, the only information we actually need for the graph is the `'DataValue'` and `'LocationDesc'`. Create a list of records that only contains these two attributes.\n",
    "\n",
    "Also, make sure that the data values are numbers, not strings."
   ]
  },
  {
   "cell_type": "code",
   "execution_count": 18,
   "metadata": {},
   "outputs": [
    {
     "ename": "KeyError",
     "evalue": "'Question'",
     "output_type": "error",
     "traceback": [
      "\u001b[0;31m---------------------------------------------------------------------------\u001b[0m",
      "\u001b[0;31mKeyError\u001b[0m                                  Traceback (most recent call last)",
      "\u001b[0;32m<ipython-input-18-7f094e79810e>\u001b[0m in \u001b[0;36m<module>\u001b[0;34m\u001b[0m\n\u001b[1;32m     12\u001b[0m \u001b[0;31m# Apply the filtering conditions as previously defined\u001b[0m\u001b[0;34m\u001b[0m\u001b[0;34m\u001b[0m\u001b[0;34m\u001b[0m\u001b[0m\n\u001b[1;32m     13\u001b[0m filtered_df = df[\n\u001b[0;32m---> 14\u001b[0;31m     \u001b[0;34m(\u001b[0m\u001b[0mdf\u001b[0m\u001b[0;34m[\u001b[0m\u001b[0;34m'Question'\u001b[0m\u001b[0;34m]\u001b[0m \u001b[0;34m==\u001b[0m \u001b[0;34m'Current asthma prevalence among adults aged >= 18 years'\u001b[0m\u001b[0;34m)\u001b[0m \u001b[0;34m&\u001b[0m\u001b[0;34m\u001b[0m\u001b[0;34m\u001b[0m\u001b[0m\n\u001b[0m\u001b[1;32m     15\u001b[0m     \u001b[0;34m(\u001b[0m\u001b[0mdf\u001b[0m\u001b[0;34m[\u001b[0m\u001b[0;34m'StratificationCategoryID1'\u001b[0m\u001b[0;34m]\u001b[0m \u001b[0;34m==\u001b[0m \u001b[0;34m'OVERALL'\u001b[0m\u001b[0;34m)\u001b[0m \u001b[0;34m&\u001b[0m\u001b[0;34m\u001b[0m\u001b[0;34m\u001b[0m\u001b[0m\n\u001b[1;32m     16\u001b[0m     \u001b[0;34m(\u001b[0m\u001b[0mdf\u001b[0m\u001b[0;34m[\u001b[0m\u001b[0;34m'DataValueTypeID'\u001b[0m\u001b[0;34m]\u001b[0m \u001b[0;34m==\u001b[0m \u001b[0;34m'CRDPREV'\u001b[0m\u001b[0;34m)\u001b[0m \u001b[0;34m&\u001b[0m\u001b[0;34m\u001b[0m\u001b[0;34m\u001b[0m\u001b[0m\n",
      "\u001b[0;32m/opt/anaconda3/envs/learn-env/lib/python3.8/site-packages/pandas/core/frame.py\u001b[0m in \u001b[0;36m__getitem__\u001b[0;34m(self, key)\u001b[0m\n\u001b[1;32m   2900\u001b[0m             \u001b[0;32mif\u001b[0m \u001b[0mself\u001b[0m\u001b[0;34m.\u001b[0m\u001b[0mcolumns\u001b[0m\u001b[0;34m.\u001b[0m\u001b[0mnlevels\u001b[0m \u001b[0;34m>\u001b[0m \u001b[0;36m1\u001b[0m\u001b[0;34m:\u001b[0m\u001b[0;34m\u001b[0m\u001b[0;34m\u001b[0m\u001b[0m\n\u001b[1;32m   2901\u001b[0m                 \u001b[0;32mreturn\u001b[0m \u001b[0mself\u001b[0m\u001b[0;34m.\u001b[0m\u001b[0m_getitem_multilevel\u001b[0m\u001b[0;34m(\u001b[0m\u001b[0mkey\u001b[0m\u001b[0;34m)\u001b[0m\u001b[0;34m\u001b[0m\u001b[0;34m\u001b[0m\u001b[0m\n\u001b[0;32m-> 2902\u001b[0;31m             \u001b[0mindexer\u001b[0m \u001b[0;34m=\u001b[0m \u001b[0mself\u001b[0m\u001b[0;34m.\u001b[0m\u001b[0mcolumns\u001b[0m\u001b[0;34m.\u001b[0m\u001b[0mget_loc\u001b[0m\u001b[0;34m(\u001b[0m\u001b[0mkey\u001b[0m\u001b[0;34m)\u001b[0m\u001b[0;34m\u001b[0m\u001b[0;34m\u001b[0m\u001b[0m\n\u001b[0m\u001b[1;32m   2903\u001b[0m             \u001b[0;32mif\u001b[0m \u001b[0mis_integer\u001b[0m\u001b[0;34m(\u001b[0m\u001b[0mindexer\u001b[0m\u001b[0;34m)\u001b[0m\u001b[0;34m:\u001b[0m\u001b[0;34m\u001b[0m\u001b[0;34m\u001b[0m\u001b[0m\n\u001b[1;32m   2904\u001b[0m                 \u001b[0mindexer\u001b[0m \u001b[0;34m=\u001b[0m \u001b[0;34m[\u001b[0m\u001b[0mindexer\u001b[0m\u001b[0;34m]\u001b[0m\u001b[0;34m\u001b[0m\u001b[0;34m\u001b[0m\u001b[0m\n",
      "\u001b[0;32m/opt/anaconda3/envs/learn-env/lib/python3.8/site-packages/pandas/core/indexes/range.py\u001b[0m in \u001b[0;36mget_loc\u001b[0;34m(self, key, method, tolerance)\u001b[0m\n\u001b[1;32m    356\u001b[0m                 \u001b[0;32mexcept\u001b[0m \u001b[0mValueError\u001b[0m \u001b[0;32mas\u001b[0m \u001b[0merr\u001b[0m\u001b[0;34m:\u001b[0m\u001b[0;34m\u001b[0m\u001b[0;34m\u001b[0m\u001b[0m\n\u001b[1;32m    357\u001b[0m                     \u001b[0;32mraise\u001b[0m \u001b[0mKeyError\u001b[0m\u001b[0;34m(\u001b[0m\u001b[0mkey\u001b[0m\u001b[0;34m)\u001b[0m \u001b[0;32mfrom\u001b[0m \u001b[0merr\u001b[0m\u001b[0;34m\u001b[0m\u001b[0;34m\u001b[0m\u001b[0m\n\u001b[0;32m--> 358\u001b[0;31m             \u001b[0;32mraise\u001b[0m \u001b[0mKeyError\u001b[0m\u001b[0;34m(\u001b[0m\u001b[0mkey\u001b[0m\u001b[0;34m)\u001b[0m\u001b[0;34m\u001b[0m\u001b[0;34m\u001b[0m\u001b[0m\n\u001b[0m\u001b[1;32m    359\u001b[0m         \u001b[0;32mreturn\u001b[0m \u001b[0msuper\u001b[0m\u001b[0;34m(\u001b[0m\u001b[0;34m)\u001b[0m\u001b[0;34m.\u001b[0m\u001b[0mget_loc\u001b[0m\u001b[0;34m(\u001b[0m\u001b[0mkey\u001b[0m\u001b[0;34m,\u001b[0m \u001b[0mmethod\u001b[0m\u001b[0;34m=\u001b[0m\u001b[0mmethod\u001b[0m\u001b[0;34m,\u001b[0m \u001b[0mtolerance\u001b[0m\u001b[0;34m=\u001b[0m\u001b[0mtolerance\u001b[0m\u001b[0;34m)\u001b[0m\u001b[0;34m\u001b[0m\u001b[0;34m\u001b[0m\u001b[0m\n\u001b[1;32m    360\u001b[0m \u001b[0;34m\u001b[0m\u001b[0m\n",
      "\u001b[0;31mKeyError\u001b[0m: 'Question'"
     ]
    }
   ],
   "source": [
    "# Your code here (create additional cells as needed)\n",
    "import pandas as pd\n",
    "import json\n",
    "\n",
    "# Load the data from the JSON file\n",
    "with open('disease_data.json') as f:\n",
    "    data = json.load(f)\n",
    "\n",
    "# Convert the 'data' part of the JSON into a DataFrame\n",
    "df = pd.DataFrame(data['data'])\n",
    "\n",
    "# Apply the filtering conditions as previously defined\n",
    "filtered_df = df[\n",
    "    (df['Question'] == 'Current asthma prevalence among adults aged >= 18 years') &\n",
    "    (df['StratificationCategoryID1'] == 'OVERALL') &\n",
    "    (df['DataValueTypeID'] == 'CRDPREV') &\n",
    "    (df['LocationDesc'] != 'United States')\n",
    "]\n",
    "\n",
    "# Extract the required attributes: 'DataValue' and 'LocationDesc'\n",
    "# Ensure 'DataValue' is numeric\n",
    "filtered_df['DataValue'] = pd.to_numeric(filtered_df['DataValue'], errors='coerce')\n",
    "\n",
    "# Create a list of records with only 'DataValue' and 'LocationDesc'\n",
    "plotting_data = filtered_df[['DataValue', 'LocationDesc']].dropna().to_dict(orient='records')\n",
    "\n",
    "# Display the extracted data\n",
    "print(\"Extracted Data for Plotting:\")\n",
    "print(plotting_data)"
   ]
  },
  {
   "cell_type": "markdown",
   "metadata": {},
   "source": [
    "## Find Top 10 States\n",
    "\n",
    "Sort by `'DataValue'` and limit to the first 10 records."
   ]
  },
  {
   "cell_type": "code",
   "execution_count": 19,
   "metadata": {},
   "outputs": [
    {
     "ename": "NameError",
     "evalue": "name 'plotting_data' is not defined",
     "output_type": "error",
     "traceback": [
      "\u001b[0;31m---------------------------------------------------------------------------\u001b[0m",
      "\u001b[0;31mNameError\u001b[0m                                 Traceback (most recent call last)",
      "\u001b[0;32m<ipython-input-19-d96a8fe86d44>\u001b[0m in \u001b[0;36m<module>\u001b[0;34m\u001b[0m\n\u001b[1;32m      1\u001b[0m \u001b[0;31m# Your code here (add additional cells as needed)\u001b[0m\u001b[0;34m\u001b[0m\u001b[0;34m\u001b[0m\u001b[0;34m\u001b[0m\u001b[0m\n\u001b[0;32m----> 2\u001b[0;31m \u001b[0mtop_10_states\u001b[0m \u001b[0;34m=\u001b[0m \u001b[0mplotting_data\u001b[0m\u001b[0;34m.\u001b[0m\u001b[0msort_values\u001b[0m\u001b[0;34m(\u001b[0m\u001b[0mby\u001b[0m\u001b[0;34m=\u001b[0m\u001b[0;34m'DataValue'\u001b[0m\u001b[0;34m,\u001b[0m \u001b[0mascending\u001b[0m\u001b[0;34m=\u001b[0m\u001b[0;32mFalse\u001b[0m\u001b[0;34m)\u001b[0m\u001b[0;34m.\u001b[0m\u001b[0mhead\u001b[0m\u001b[0;34m(\u001b[0m\u001b[0;36m10\u001b[0m\u001b[0;34m)\u001b[0m\u001b[0;34m\u001b[0m\u001b[0;34m\u001b[0m\u001b[0m\n\u001b[0m",
      "\u001b[0;31mNameError\u001b[0m: name 'plotting_data' is not defined"
     ]
    }
   ],
   "source": [
    "# Your code here (add additional cells as needed)\n",
    "top_10_states = plotting_data.sort_values(by='DataValue', ascending=False).head(10)\n"
   ]
  },
  {
   "cell_type": "markdown",
   "metadata": {},
   "source": [
    "## Separate the Names and Values for Plotting\n",
    "\n",
    "Assign the names of the top 10 states to a list-like variable `names`, and the associated values to a list-like variable `values`. Then the plotting code below should work correctly to make the desired bar graph."
   ]
  },
  {
   "cell_type": "code",
   "execution_count": null,
   "metadata": {},
   "outputs": [],
   "source": [
    "# Replace None with appropriate code\n",
    "\n",
    "names = None\n",
    "values = None"
   ]
  },
  {
   "cell_type": "code",
   "execution_count": null,
   "metadata": {},
   "outputs": [],
   "source": [
    "# Run this cell without changes\n",
    "\n",
    "import matplotlib.pyplot as plt\n",
    "fig, ax = plt.subplots()\n",
    "\n",
    "ax.barh(names[::-1], values[::-1]) # Values inverted so highest is at top\n",
    "ax.set_title('Adult Asthma Rates by State in 2016')\n",
    "ax.set_xlabel('Percent 18+ with Asthma');"
   ]
  },
  {
   "cell_type": "markdown",
   "metadata": {},
   "source": [
    "## Summary\n",
    "\n",
    "In this lab you got some extended practice exploring the structure of JSON files and visualizing data."
   ]
  }
 ],
 "metadata": {
  "kernelspec": {
   "display_name": "Python (learn-env)",
   "language": "python",
   "name": "learn-env"
  },
  "language_info": {
   "codemirror_mode": {
    "name": "ipython",
    "version": 3
   },
   "file_extension": ".py",
   "mimetype": "text/x-python",
   "name": "python",
   "nbconvert_exporter": "python",
   "pygments_lexer": "ipython3",
   "version": "3.8.5"
  },
  "toc": {
   "base_numbering": 1,
   "nav_menu": {},
   "number_sections": true,
   "sideBar": true,
   "skip_h1_title": false,
   "title_cell": "Table of Contents",
   "title_sidebar": "Contents",
   "toc_cell": false,
   "toc_position": {},
   "toc_section_display": true,
   "toc_window_display": false
  }
 },
 "nbformat": 4,
 "nbformat_minor": 2
}
